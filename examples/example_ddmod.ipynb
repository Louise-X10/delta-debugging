{
 "cells": [
  {
   "cell_type": "code",
   "execution_count": 1,
   "metadata": {},
   "outputs": [],
   "source": [
    "import sys\n",
    "sys.path.append('../')\n",
    "from delta_debugging.DD_mod import DDMods"
   ]
  },
  {
   "cell_type": "markdown",
   "metadata": {},
   "source": [
    "## Example"
   ]
  },
  {
   "cell_type": "code",
   "execution_count": 2,
   "metadata": {},
   "outputs": [],
   "source": [
    "class TestDD(DDMods):\n",
    "\tdef __init__(self):\n",
    "\t\tDDMods.__init__(self)\n",
    "\t\tself.debug_dd = 0\n",
    "\t\tself.verbose = 0\n",
    "\t\tself.binary = False\n",
    "\tdef _test(self, deltas):\n",
    "\t\t# Build input file\n",
    "\t\tfound = []\n",
    "\t\tfor (index, byte) in deltas:\n",
    "\t\t\tif byte == \"<\" or byte == \";\" or byte == \"1\" or byte == \"2\":\n",
    "\t\t\t\tfound.append(byte)\n",
    "\t\tret = self.PASS\n",
    "\t\tif found.count(\"<\") == 0 and found.count(\";\") == 0 and found.count(\"1\") == 1 and found.count(\"2\") == 3:\n",
    "\t\t\tret = self.FAIL\n",
    "\t\tprint('Testing case {:11}: {}'.format('\"' + \"\".join([x[1] for x in deltas]) + '\"', str(ret)))\n",
    "\t\treturn ret\n",
    "\n",
    "def str_to_deltas(test_input):\n",
    "    deltas = list(map(lambda x: (x, test_input[x]), range(len(test_input))))\n",
    "    return deltas\n",
    "\n",
    "def deltas_to_str(deltas):\n",
    "\treturn \"\".join([x[1] for x in deltas])"
   ]
  },
  {
   "cell_type": "code",
   "execution_count": 3,
   "metadata": {},
   "outputs": [
    {
     "name": "stdout",
     "output_type": "stream",
     "text": [
      "Minimizing failure input: \"1222>\"\n",
      "Testing case \"\"         : PASS\n",
      "Testing case \"1222>\"    : FAIL\n",
      "Testing case \"22>\"      : PASS\n",
      "Testing case \"12\"       : PASS\n",
      "Testing case \"222>\"     : PASS\n",
      "Testing case \"122>\"     : PASS\n",
      "Testing case \"122>\"     : PASS\n",
      "Testing case \"122\"      : PASS\n",
      "Testing case \"122>\"     : PASS\n",
      "Testing case \"1222\"     : FAIL\n",
      "Testing case \"222\"      : PASS\n",
      "Testing case \"122\"      : PASS\n",
      "Testing case \"122\"      : PASS\n",
      "dd: done\n",
      "Found minimal failure input: \"1222\"\n",
      "Modifying failure input from  1222  towards  <55513>;\n",
      "Testing case \"<555122\"  : PASS\n",
      "Testing case \"<51222\"   : PASS\n",
      "Testing case \"551222\"   : FAIL\n",
      "Testing case \"551\"      : PASS\n",
      "Testing case \"<51\"      : PASS\n",
      "Testing case \"<55512223>;\": PASS\n",
      "Testing case \"<5551\"    : PASS\n",
      "Testing case \"<551222\"  : PASS\n",
      "Testing case \"5551222\"  : FAIL\n",
      "Testing case \"5551\"     : PASS\n",
      "Testing case \"<551\"     : PASS\n",
      "Testing case \"<55512\"   : PASS\n",
      "Testing case \"<55512\"   : PASS\n",
      "Testing case \"<555123>;\": PASS\n",
      "The minimally different failure to  <55513>;  is  551222\n"
     ]
    }
   ],
   "source": [
    "test_input = \"1222>\"\n",
    "string2 = \"<55513>;\"\n",
    "mydd = TestDD()\n",
    "(c, c1, c2) = mydd.ddiff_max(test_input, string2)"
   ]
  },
  {
   "cell_type": "markdown",
   "metadata": {},
   "source": [
    "## Step-by-step"
   ]
  },
  {
   "cell_type": "code",
   "execution_count": 4,
   "metadata": {},
   "outputs": [
    {
     "name": "stdout",
     "output_type": "stream",
     "text": [
      "Minimizing input: \"1222>\"\n",
      "Testing case \"\"         : PASS\n",
      "Testing case \"1222>\"    : FAIL\n",
      "Testing case \"22>\"      : PASS\n",
      "Testing case \"12\"       : PASS\n",
      "Testing case \"222>\"     : PASS\n",
      "Testing case \"122>\"     : PASS\n",
      "Testing case \"122>\"     : PASS\n",
      "Testing case \"122\"      : PASS\n",
      "Testing case \"122>\"     : PASS\n",
      "Testing case \"1222\"     : FAIL\n",
      "Testing case \"222\"      : PASS\n",
      "Testing case \"122\"      : PASS\n",
      "Testing case \"122\"      : PASS\n",
      "dd: done\n",
      "Found minimal test case: \"1222\"\n"
     ]
    }
   ],
   "source": [
    "mydd = TestDD()\n",
    "test_input = \"1222>\"\n",
    "print('Minimizing input: \"{}\"'.format(test_input))\n",
    "# Convert string into the delta format\n",
    "deltas = list(map(lambda x: (x, test_input[x]), range(len(test_input))))\n",
    "c = mydd.ddmin(deltas)              # Invoke DDMIN\n",
    "minimal = \"\".join([x[1] for x in c])\n",
    "print('Found minimal test case: \"{}\"'.format(minimal))"
   ]
  },
  {
   "cell_type": "code",
   "execution_count": 5,
   "metadata": {},
   "outputs": [
    {
     "data": {
      "text/plain": [
       "[(-4, '<', 'ADD'),\n",
       " (-3, '5', 'ADD'),\n",
       " (-2, '5', 'ADD'),\n",
       " (-1, '5', 'ADD'),\n",
       " (1, '2', 'REMOVE'),\n",
       " (2, '2', 'REMOVE'),\n",
       " (3, '2', 'REMOVE'),\n",
       " (3, '3', 'ADD'),\n",
       " (3, '>', 'ADD'),\n",
       " (3, ';', 'ADD')]"
      ]
     },
     "execution_count": 5,
     "metadata": {},
     "output_type": "execute_result"
    }
   ],
   "source": [
    "string1 = minimal\n",
    "string2 = \"<55513>;\"\n",
    "mods = mydd.get_mods(string1, string2)\n",
    "c1 = str_to_deltas(string1)\n",
    "c2 = str_to_deltas(string2)\n",
    "c = mods\n",
    "c"
   ]
  },
  {
   "cell_type": "code",
   "execution_count": 6,
   "metadata": {},
   "outputs": [
    {
     "name": "stdout",
     "output_type": "stream",
     "text": [
      "Expanding failure input  1222  to  <55513>;\n",
      "Testing case \"<555122\"  : PASS\n",
      "Testing case \"<51222\"   : PASS\n",
      "Testing case \"551222\"   : FAIL\n",
      "Testing case \"551\"      : PASS\n",
      "Testing case \"<51\"      : PASS\n",
      "Testing case \"<55512223>;\": PASS\n",
      "Testing case \"<5551\"    : PASS\n",
      "Testing case \"<551222\"  : PASS\n",
      "Testing case \"5551222\"  : FAIL\n",
      "Testing case \"5551\"     : PASS\n",
      "Testing case \"<551\"     : PASS\n",
      "Testing case \"<55512\"   : PASS\n",
      "Testing case \"<55512\"   : PASS\n",
      "Testing case \"<555123>;\": PASS\n",
      "The minimally different failure to   <55513>;  is  551222\n",
      "The difference is  [(-4, '<', 'ADD'), (-3, '5', 'ADD'), (1, '2', 'REMOVE'), (2, '2', 'REMOVE'), (3, '2', 'REMOVE'), (3, '3', 'ADD'), (3, '>', 'ADD'), (3, ';', 'ADD')]\n"
     ]
    }
   ],
   "source": [
    "print(\"Expanding failure input \", mydd.pretty(c1), \" to \", mydd.pretty(c2))\n",
    "\n",
    "(c, c1, c2) = mydd.ddiff_mods(c1, c2, mods)\n",
    "print(\"The minimally different failure to  \", mydd.pretty(c2), \" is \", mydd.pretty(c1))\n",
    "print(\"The difference is \", c)"
   ]
  },
  {
   "cell_type": "code",
   "execution_count": null,
   "metadata": {},
   "outputs": [],
   "source": []
  }
 ],
 "metadata": {
  "kernelspec": {
   "display_name": "py",
   "language": "python",
   "name": "python3"
  },
  "language_info": {
   "codemirror_mode": {
    "name": "ipython",
    "version": 3
   },
   "file_extension": ".py",
   "mimetype": "text/x-python",
   "name": "python",
   "nbconvert_exporter": "python",
   "pygments_lexer": "ipython3",
   "version": "3.12.9"
  }
 },
 "nbformat": 4,
 "nbformat_minor": 2
}
