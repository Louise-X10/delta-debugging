{
 "cells": [
  {
   "cell_type": "code",
   "execution_count": null,
   "metadata": {},
   "outputs": [],
   "source": [
    "import sys\n",
    "sys.path.append('../')\n",
    "from delta_debugging.DD import DD"
   ]
  },
  {
   "cell_type": "code",
   "execution_count": null,
   "metadata": {},
   "outputs": [],
   "source": [
    "class TestDD(DD):\n",
    "\tdef __init__(self):\n",
    "\t\tDD.__init__(self)\n",
    "\t\tself.debug_dd = 0\n",
    "\t\tself.verbose = 0\n",
    "\tdef _test(self, deltas):\n",
    "\t\t# Build input file\n",
    "\t\tfound = []\n",
    "\t\tfor (index, byte) in deltas:\n",
    "\t\t\tif byte == \"1\" or byte == \"3\":\n",
    "\t\t\t\tfound.append(byte)\n",
    "\t\tret = self.PASS\n",
    "\t\tif found.count(\"1\") == 1 and found.count(\"3\") == 1:\n",
    "\t\t\tret = self.FAIL\n",
    "\t\tprint('Testing case {:11}: {}'.format('\"' + \"\".join([x[1] for x in deltas]) + '\"', str(ret)))\n",
    "\t\treturn ret\n",
    "\n"
   ]
  },
  {
   "cell_type": "code",
   "execution_count": 3,
   "metadata": {},
   "outputs": [],
   "source": [
    "def str_to_deltas(test_input):\n",
    "    deltas = list(map(lambda x: (x, test_input[x]), range(len(test_input))))\n",
    "    return deltas"
   ]
  },
  {
   "cell_type": "code",
   "execution_count": 4,
   "metadata": {},
   "outputs": [
    {
     "name": "stdout",
     "output_type": "stream",
     "text": [
      "Failure input: \"12345678\"\n"
     ]
    }
   ],
   "source": [
    "test_input = \"12345678\"\n",
    "print('Failure input: \"{}\"'.format(test_input))\n",
    "# Convert string into the delta format\n",
    "deltas = list(map(lambda x: (x, test_input[x]), range(len(test_input))))"
   ]
  },
  {
   "cell_type": "code",
   "execution_count": 5,
   "metadata": {},
   "outputs": [
    {
     "name": "stdout",
     "output_type": "stream",
     "text": [
      "Testing case \"\"         : PASS\n",
      "Testing case \"12345678\" : FAIL\n",
      "Testing case \"5678\"     : PASS\n",
      "Testing case \"1234\"     : FAIL\n",
      "Testing case \"34\"       : PASS\n",
      "Testing case \"12\"       : PASS\n",
      "Testing case \"234\"      : PASS\n",
      "Testing case \"134\"      : FAIL\n",
      "Testing case \"14\"       : PASS\n",
      "Testing case \"13\"       : FAIL\n",
      "Testing case \"3\"        : PASS\n",
      "Testing case \"1\"        : PASS\n",
      "dd: done\n",
      "Found minimal test case: \"13\"\n"
     ]
    }
   ],
   "source": [
    "mydd = TestDD()\n",
    "mydd.verbose = 0\n",
    "mydd.debug_dd = 0\n",
    "c = mydd.ddmin(deltas)              # Invoke DDMIN\n",
    "minimal = \"\".join([x[1] for x in c])\n",
    "print('Found minimal test case: \"{}\"'.format(minimal))"
   ]
  },
  {
   "cell_type": "code",
   "execution_count": null,
   "metadata": {},
   "outputs": [
    {
     "name": "stdout",
     "output_type": "stream",
     "text": [
      "Testing case \"1234\"     : FAIL\n",
      "Testing case \"12\"       : PASS\n",
      "Testing case \"123\"      : FAIL\n",
      "The 1-minimal failure-inducing difference is 3\n",
      "12 passes, 123 fails\n"
     ]
    }
   ],
   "source": [
    "mydd = TestDD()\n",
    "(c, c1, c2) = mydd.dd(deltas)              # Invoke DDMIN\n",
    "c1 = \"\".join([x[1] for x in c1])\n",
    "c2 = \"\".join([x[1] for x in c2])\n",
    "c = \"\".join([x[1] for x in c])\n",
    "print(\"The 1-minimal failure-inducing difference is\", c)\n",
    "print(c1, \"passes,\", c2, \"fails\")"
   ]
  }
 ],
 "metadata": {
  "kernelspec": {
   "display_name": "py",
   "language": "python",
   "name": "python3"
  },
  "language_info": {
   "codemirror_mode": {
    "name": "ipython",
    "version": 3
   },
   "file_extension": ".py",
   "mimetype": "text/x-python",
   "name": "python",
   "nbconvert_exporter": "python",
   "pygments_lexer": "ipython3",
   "version": "3.12.9"
  }
 },
 "nbformat": 4,
 "nbformat_minor": 2
}
