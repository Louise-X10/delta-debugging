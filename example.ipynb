{
 "cells": [
  {
   "cell_type": "code",
   "execution_count": 1,
   "metadata": {},
   "outputs": [],
   "source": [
    "from delta_debugging.DD import DD"
   ]
  },
  {
   "cell_type": "code",
   "execution_count": 2,
   "metadata": {},
   "outputs": [],
   "source": [
    "class TestDD(DD):\n",
    "\tdef __init__(self):\n",
    "\t\tDD.__init__(self)\n",
    "\t\tself.debug_dd = 0\n",
    "\t\tself.verbose = 0\n",
    "\tdef _test(self, deltas):\n",
    "\t\t# Build input file\n",
    "\t\tfound = []\n",
    "\t\tfor (index, byte) in deltas:\n",
    "\t\t\tif byte == \"1\" or byte == \"7\" or byte == \"8\":\n",
    "\t\t\t\tfound.append(byte)\n",
    "\t\tret = self.PASS\n",
    "\t\tif found.count(\"1\") == 1 and found.count(\"7\") == 1 and found.count(\"8\") == 1:\n",
    "\t\t\tret = self.FAIL\n",
    "\t\tprint('Testing case {:11}: {}'.format('\"' + \"\".join([x[1] for x in deltas]) + '\"', str(ret)))\n",
    "\t\treturn ret\n",
    "\n"
   ]
  },
  {
   "cell_type": "code",
   "execution_count": 3,
   "metadata": {},
   "outputs": [
    {
     "name": "stdout",
     "output_type": "stream",
     "text": [
      "Minimizing input: \"12345678\"\n"
     ]
    }
   ],
   "source": [
    "test_input = \"12345678\"\n",
    "print('Minimizing input: \"{}\"'.format(test_input))\n",
    "# Convert string into the delta format\n",
    "deltas = list(map(lambda x: (x, test_input[x]), range(len(test_input))))"
   ]
  },
  {
   "cell_type": "code",
   "execution_count": 4,
   "metadata": {},
   "outputs": [
    {
     "name": "stdout",
     "output_type": "stream",
     "text": [
      "dd([(0, '1'), (1, '2'), (2, '3'), (3, '4'), (4, '5'), (5, '6'), (6, '7'), (7, '8')], 2)...\n",
      "Testing case \"\"         : PASS\n",
      "Testing case \"12345678\" : FAIL\n",
      "i: 0, next_n: 2\n",
      "dd: trying [(0, '1'), (1, '2'), (2, '3'), (3, '4')]\n",
      "Testing case \"1234\"     : PASS\n",
      "i: 1, next_n: 2\n",
      "dd: trying [(4, '5'), (5, '6'), (6, '7'), (7, '8')]\n",
      "Testing case \"5678\"     : PASS\n",
      "Check complements\n",
      "j: 0, next_n: 2\n",
      "j: 1, next_n: 2\n",
      "Increase granularity\n",
      "next_n: 4\n",
      "i: 0, next_n: 4\n",
      "dd: trying [(0, '1'), (1, '2')]\n",
      "Testing case \"12\"       : PASS\n",
      "i: 1, next_n: 4\n",
      "dd: trying [(2, '3'), (3, '4')]\n",
      "Testing case \"34\"       : PASS\n",
      "i: 2, next_n: 4\n",
      "dd: trying [(4, '5'), (5, '6')]\n",
      "Testing case \"56\"       : PASS\n",
      "i: 3, next_n: 4\n",
      "dd: trying [(6, '7'), (7, '8')]\n",
      "Testing case \"78\"       : PASS\n",
      "Check complements\n",
      "j: 0, next_n: 4\n",
      "Testing case \"345678\"   : PASS\n",
      "j: 1, next_n: 4\n",
      "Testing case \"125678\"   : FAIL\n",
      "dd: reduced to 6\n",
      "deltas:\n",
      "[(0, '1'), (1, '2'), (4, '5'), (5, '6'), (6, '7'), (7, '8')]\n",
      "i: 0, next_n: 3\n",
      "dd: trying [(0, '1'), (1, '2')]\n",
      "i: 1, next_n: 3\n",
      "dd: trying [(4, '5'), (5, '6')]\n",
      "i: 2, next_n: 3\n",
      "dd: trying [(6, '7'), (7, '8')]\n",
      "Check complements\n",
      "j: 0, next_n: 3\n",
      "Testing case \"1278\"     : FAIL\n",
      "dd: reduced to 4\n",
      "deltas:\n",
      "[(0, '1'), (1, '2'), (6, '7'), (7, '8')]\n",
      "i: 0, next_n: 2\n",
      "dd: trying [(0, '1'), (1, '2')]\n",
      "i: 1, next_n: 2\n",
      "dd: trying [(6, '7'), (7, '8')]\n",
      "Check complements\n",
      "j: 0, next_n: 2\n",
      "j: 1, next_n: 2\n",
      "Increase granularity\n",
      "next_n: 4\n",
      "i: 0, next_n: 4\n",
      "dd: trying [(0, '1')]\n",
      "Testing case \"1\"        : PASS\n",
      "i: 1, next_n: 4\n",
      "dd: trying [(1, '2')]\n",
      "Testing case \"2\"        : PASS\n",
      "i: 2, next_n: 4\n",
      "dd: trying [(6, '7')]\n",
      "Testing case \"7\"        : PASS\n",
      "i: 3, next_n: 4\n",
      "dd: trying [(7, '8')]\n",
      "Testing case \"8\"        : PASS\n",
      "Check complements\n",
      "j: 0, next_n: 4\n",
      "Testing case \"128\"      : PASS\n",
      "j: 1, next_n: 4\n",
      "Testing case \"127\"      : PASS\n",
      "j: 2, next_n: 4\n",
      "Testing case \"278\"      : PASS\n",
      "j: 3, next_n: 4\n",
      "Testing case \"178\"      : FAIL\n",
      "dd: reduced to 3\n",
      "deltas:\n",
      "[(0, '1'), (6, '7'), (7, '8')]\n",
      "i: 0, next_n: 3\n",
      "dd: trying [(0, '1')]\n",
      "i: 1, next_n: 3\n",
      "dd: trying [(6, '7')]\n",
      "i: 2, next_n: 3\n",
      "dd: trying [(7, '8')]\n",
      "Check complements\n",
      "j: 0, next_n: 3\n",
      "Testing case \"18\"       : PASS\n",
      "j: 1, next_n: 3\n",
      "Testing case \"17\"       : PASS\n",
      "j: 2, next_n: 3\n",
      "Increase granularity\n",
      "dd: done\n",
      "dd([(0, '1'), (1, '2'), (2, '3'), (3, '4'), (4, '5'), (5, '6'), (6, '7'), (7, '8')], 2) = [(0, '1'), (6, '7'), (7, '8')]\n",
      "Found minimal test case: \"178\"\n"
     ]
    }
   ],
   "source": [
    "mydd = TestDD()\n",
    "mydd.verbose = 0\n",
    "mydd.debug_dd = 1\n",
    "c = mydd.ddmin(deltas)              # Invoke DDMIN\n",
    "minimal = \"\".join([x[1] for x in c])\n",
    "print('Found minimal test case: \"{}\"'.format(minimal))"
   ]
  },
  {
   "cell_type": "code",
   "execution_count": 20,
   "metadata": {},
   "outputs": [
    {
     "name": "stdout",
     "output_type": "stream",
     "text": [
      "Testing case \"1234\"     : PASS\n",
      "Testing case \"123456\"   : PASS\n",
      "Testing case \"1234567\"  : PASS\n",
      "The 1-minimal failure-inducing difference is 8\n",
      "1234567 passes, 12345678 fails\n"
     ]
    }
   ],
   "source": [
    "mydd = TestDD()\n",
    "# mydd.verbose = 1\n",
    "(c, c1, c2) = mydd.dd(deltas)              # Invoke DDMIN\n",
    "c1 = \"\".join([x[1] for x in c1])\n",
    "c2 = \"\".join([x[1] for x in c2])\n",
    "c = \"\".join([x[1] for x in c])\n",
    "print(\"The 1-minimal failure-inducing difference is\", c)\n",
    "print(c1, \"passes,\", c2, \"fails\")"
   ]
  }
 ],
 "metadata": {
  "kernelspec": {
   "display_name": "py",
   "language": "python",
   "name": "python3"
  },
  "language_info": {
   "codemirror_mode": {
    "name": "ipython",
    "version": 3
   },
   "file_extension": ".py",
   "mimetype": "text/x-python",
   "name": "python",
   "nbconvert_exporter": "python",
   "pygments_lexer": "ipython3",
   "version": "3.12.9"
  }
 },
 "nbformat": 4,
 "nbformat_minor": 2
}
