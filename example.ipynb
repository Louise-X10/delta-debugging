{
 "cells": [
  {
   "cell_type": "code",
   "execution_count": 1,
   "metadata": {},
   "outputs": [],
   "source": [
    "from delta_debugging.DD import DD"
   ]
  },
  {
   "cell_type": "code",
   "execution_count": 2,
   "metadata": {},
   "outputs": [],
   "source": [
    "class TestDD(DD):\n",
    "\tdef __init__(self):\n",
    "\t\tDD.__init__(self)\n",
    "\t\tself.debug_dd = 0\n",
    "\t\tself.verbose = 0\n",
    "\tdef _test(self, deltas):\n",
    "\t\t# Build input file\n",
    "\t\tfound = []\n",
    "\t\tfor (index, byte) in deltas:\n",
    "\t\t\tif byte == \"1\" or byte == \"3\":\n",
    "\t\t\t\tfound.append(byte)\n",
    "\t\tret = self.PASS\n",
    "\t\tif found.count(\"1\") == 1 and found.count(\"3\") == 1:\n",
    "\t\t\tret = self.FAIL\n",
    "\t\tprint('Testing case {:11}: {}'.format('\"' + \"\".join([x[1] for x in deltas]) + '\"', str(ret)))\n",
    "\t\treturn ret\n",
    "\n"
   ]
  },
  {
   "cell_type": "code",
   "execution_count": 3,
   "metadata": {},
   "outputs": [
    {
     "name": "stdout",
     "output_type": "stream",
     "text": [
      "Minimizing input: \"12345678\"\n"
     ]
    }
   ],
   "source": [
    "test_input = \"12345678\"\n",
    "print('Minimizing input: \"{}\"'.format(test_input))\n",
    "# Convert string into the delta format\n",
    "deltas = list(map(lambda x: (x, test_input[x]), range(len(test_input))))"
   ]
  },
  {
   "cell_type": "code",
   "execution_count": 4,
   "metadata": {},
   "outputs": [
    {
     "name": "stdout",
     "output_type": "stream",
     "text": [
      "dd([(0, '1'), (1, '2'), (2, '3'), (3, '4'), (4, '5'), (5, '6'), (6, '7'), (7, '8')], 2)...\n",
      "Testing case \"\"         : PASS\n",
      "Testing case \"12345678\" : FAIL\n",
      "FAIL\n",
      "Minimization on  [(4, '5'), (5, '6'), (6, '7'), (7, '8')]\n",
      "Testing case \"5678\"     : PASS\n",
      "Minimization on  [(0, '1'), (1, '2'), (2, '3'), (3, '4')]\n",
      "Testing case \"1234\"     : FAIL\n",
      "dd: reduced to 4\n",
      "deltas:\n",
      "[(0, '1'), (1, '2'), (2, '3'), (3, '4')]\n",
      "FAIL\n",
      "Minimization on  []\n",
      "FAIL\n",
      "Minimization on  [(2, '3'), (3, '4')]\n",
      "Testing case \"34\"       : PASS\n",
      "Minimization on  [(0, '1'), (1, '2')]\n",
      "Testing case \"12\"       : PASS\n",
      "FAIL\n",
      "Minimization on  [(1, '2'), (2, '3'), (3, '4')]\n",
      "Testing case \"234\"      : PASS\n",
      "Minimization on  [(0, '1'), (2, '3'), (3, '4')]\n",
      "Testing case \"134\"      : FAIL\n",
      "dd: reduced to 3\n",
      "deltas:\n",
      "[(0, '1'), (2, '3'), (3, '4')]\n",
      "FAIL\n",
      "Minimization on  [(0, '1'), (3, '4')]\n",
      "Testing case \"14\"       : PASS\n",
      "Minimization on  [(0, '1'), (2, '3')]\n",
      "Testing case \"13\"       : FAIL\n",
      "dd: reduced to 2\n",
      "deltas:\n",
      "[(0, '1'), (2, '3')]\n",
      "FAIL\n",
      "Minimization on  [(2, '3')]\n",
      "Testing case \"3\"        : PASS\n",
      "Minimization on  [(0, '1')]\n",
      "Testing case \"1\"        : PASS\n",
      "dd: done\n",
      "dd([(0, '1'), (1, '2'), (2, '3'), (3, '4'), (4, '5'), (5, '6'), (6, '7'), (7, '8')], 2) = [(0, '1'), (2, '3')]\n",
      "Found minimal test case: \"13\"\n"
     ]
    }
   ],
   "source": [
    "mydd = TestDD()\n",
    "mydd.verbose = 0\n",
    "mydd.debug_dd = 1\n",
    "c = mydd.ddmin(deltas)              # Invoke DDMIN\n",
    "minimal = \"\".join([x[1] for x in c])\n",
    "print('Found minimal test case: \"{}\"'.format(minimal))"
   ]
  },
  {
   "cell_type": "code",
   "execution_count": 5,
   "metadata": {},
   "outputs": [
    {
     "name": "stdout",
     "output_type": "stream",
     "text": [
      "Minimizing input: \"12345678\"\n",
      "dd([(0, '1'), (1, '2'), (2, '3'), (3, '4'), (4, '5'), (5, '6'), (6, '7'), (7, '8')], 2)...\n",
      "Testing case \"\"         : PASS\n",
      "Testing case \"12345678\" : FAIL\n",
      "FAIL\n",
      "\n",
      "dd: 8 deltas left: [(0, '1'), (1, '2'), (2, '3'), (3, '4'), (4, '5'), (5, '6'), (6, '7'), (7, '8')]\n",
      "\n",
      "dd (run #1): trying\n",
      "4\n",
      "+\n",
      "4\n",
      "\n",
      "Minimization on  [(4, '5'), (5, '6'), (6, '7'), (7, '8')]\n",
      "Testing case \"5678\"     : PASS\n",
      "Maximization on  [(0, '1'), (1, '2'), (2, '3'), (3, '4')]\n",
      "Testing case \"1234\"     : FAIL\n",
      "Minimization on  [(0, '1'), (1, '2'), (2, '3'), (3, '4')]\n",
      "dd: reduced to 4\n",
      "deltas:\n",
      "[(0, '1'), (1, '2'), (2, '3'), (3, '4')]\n",
      "\n",
      "dd: 4 deltas left: [(0, '1'), (1, '2'), (2, '3'), (3, '4')]\n",
      "FAIL\n",
      "\n",
      "dd (run #2): trying\n",
      "4\n",
      "\n",
      "Minimization on  []\n",
      "Maximization on  [(0, '1'), (1, '2'), (2, '3'), (3, '4'), (4, '5'), (5, '6'), (6, '7'), (7, '8')]\n",
      "dd: increase granularity to 2\n",
      "FAIL\n",
      "\n",
      "dd (run #3): trying\n",
      "2\n",
      "+\n",
      "2\n",
      "\n",
      "Minimization on  [(2, '3'), (3, '4')]\n",
      "Testing case \"34\"       : PASS\n",
      "Maximization on  [(0, '1'), (1, '2'), (4, '5'), (5, '6'), (6, '7'), (7, '8')]\n",
      "Testing case \"125678\"   : PASS\n",
      "dd: reduced to 2\n",
      "deltas:\n",
      "[(2, '3'), (3, '4')]\n",
      "\n",
      "dd: 2 deltas left: [(2, '3'), (3, '4')]\n",
      "PASS\n"
     ]
    },
    {
     "ename": "AssertionError",
     "evalue": "",
     "output_type": "error",
     "traceback": [
      "\u001b[0;31m---------------------------------------------------------------------------\u001b[0m",
      "\u001b[0;31mAssertionError\u001b[0m                            Traceback (most recent call last)",
      "Cell \u001b[0;32mIn[5], line 9\u001b[0m\n\u001b[1;32m      7\u001b[0m mydd\u001b[38;5;241m.\u001b[39mverbose \u001b[38;5;241m=\u001b[39m \u001b[38;5;241m1\u001b[39m\n\u001b[1;32m      8\u001b[0m mydd\u001b[38;5;241m.\u001b[39mdebug_dd \u001b[38;5;241m=\u001b[39m \u001b[38;5;241m1\u001b[39m\n\u001b[0;32m----> 9\u001b[0m c \u001b[38;5;241m=\u001b[39m mydd\u001b[38;5;241m.\u001b[39mddmix(deltas)              \u001b[38;5;66;03m# Invoke DDMIN\u001b[39;00m\n\u001b[1;32m     10\u001b[0m minimal \u001b[38;5;241m=\u001b[39m \u001b[38;5;124m\"\u001b[39m\u001b[38;5;124m\"\u001b[39m\u001b[38;5;241m.\u001b[39mjoin([x[\u001b[38;5;241m1\u001b[39m] \u001b[38;5;28;01mfor\u001b[39;00m x \u001b[38;5;129;01min\u001b[39;00m c])\n\u001b[1;32m     11\u001b[0m \u001b[38;5;28mprint\u001b[39m(\u001b[38;5;124m'\u001b[39m\u001b[38;5;124mFound minimal test case: \u001b[39m\u001b[38;5;124m\"\u001b[39m\u001b[38;5;132;01m{}\u001b[39;00m\u001b[38;5;124m\"\u001b[39m\u001b[38;5;124m'\u001b[39m\u001b[38;5;241m.\u001b[39mformat(minimal))\n",
      "File \u001b[0;32m~/Documents/NUS/CS6215 Prog Analysis/delta-debugging/delta_debugging/DD.py:770\u001b[0m, in \u001b[0;36mDD.ddmix\u001b[0;34m(self, c)\u001b[0m\n\u001b[1;32m    769\u001b[0m \u001b[38;5;28;01mdef\u001b[39;00m \u001b[38;5;21mddmix\u001b[39m(\u001b[38;5;28mself\u001b[39m, c):\n\u001b[0;32m--> 770\u001b[0m     \u001b[38;5;28;01mreturn\u001b[39;00m \u001b[38;5;28mself\u001b[39m\u001b[38;5;241m.\u001b[39mddgen(c, \u001b[38;5;241m1\u001b[39m, \u001b[38;5;241m1\u001b[39m)\n",
      "File \u001b[0;32m~/Documents/NUS/CS6215 Prog Analysis/delta-debugging/delta_debugging/DD.py:652\u001b[0m, in \u001b[0;36mDD.ddgen\u001b[0;34m(self, c, minimize, maximize)\u001b[0m\n\u001b[1;32m    649\u001b[0m \u001b[38;5;28;01mif\u001b[39;00m \u001b[38;5;28mself\u001b[39m\u001b[38;5;241m.\u001b[39mdebug_dd:\n\u001b[1;32m    650\u001b[0m     \u001b[38;5;28mprint\u001b[39m(\u001b[38;5;124m\"\u001b[39m\u001b[38;5;124mdd(\u001b[39m\u001b[38;5;132;01m%s\u001b[39;00m\u001b[38;5;124m, \u001b[39m\u001b[38;5;132;01m%d\u001b[39;00m\u001b[38;5;124m)...\u001b[39m\u001b[38;5;124m\"\u001b[39m \u001b[38;5;241m%\u001b[39m (\u001b[38;5;28mself\u001b[39m\u001b[38;5;241m.\u001b[39mpretty(c), n))\n\u001b[0;32m--> 652\u001b[0m outcome \u001b[38;5;241m=\u001b[39m \u001b[38;5;28mself\u001b[39m\u001b[38;5;241m.\u001b[39m_dd(c, n)\n\u001b[1;32m    654\u001b[0m \u001b[38;5;28;01mif\u001b[39;00m \u001b[38;5;28mself\u001b[39m\u001b[38;5;241m.\u001b[39mdebug_dd:\n\u001b[1;32m    655\u001b[0m     \u001b[38;5;28mprint\u001b[39m(\u001b[38;5;124m\"\u001b[39m\u001b[38;5;124mdd(\u001b[39m\u001b[38;5;132;01m%s\u001b[39;00m\u001b[38;5;124m, \u001b[39m\u001b[38;5;132;01m%d\u001b[39;00m\u001b[38;5;124m) = \u001b[39m\u001b[38;5;132;01m%s\u001b[39;00m\u001b[38;5;124m\"\u001b[39m \u001b[38;5;241m%\u001b[39m (\u001b[38;5;28mself\u001b[39m\u001b[38;5;241m.\u001b[39mpretty(c), n, outcome))\n",
      "File \u001b[0;32m~/Documents/NUS/CS6215 Prog Analysis/delta-debugging/delta_debugging/DD.py:671\u001b[0m, in \u001b[0;36mDD._dd\u001b[0;34m(self, c, n)\u001b[0m\n\u001b[1;32m    669\u001b[0m tc \u001b[38;5;241m=\u001b[39m \u001b[38;5;28mself\u001b[39m\u001b[38;5;241m.\u001b[39mtest(c)\n\u001b[1;32m    670\u001b[0m \u001b[38;5;28mprint\u001b[39m(tc)\n\u001b[0;32m--> 671\u001b[0m \u001b[38;5;28;01massert\u001b[39;00m tc \u001b[38;5;241m==\u001b[39m \u001b[38;5;28mself\u001b[39m\u001b[38;5;241m.\u001b[39mFAIL \u001b[38;5;129;01mor\u001b[39;00m tc \u001b[38;5;241m==\u001b[39m \u001b[38;5;28mself\u001b[39m\u001b[38;5;241m.\u001b[39mUNRESOLVED\n\u001b[1;32m    673\u001b[0m \u001b[38;5;28;01mif\u001b[39;00m n \u001b[38;5;241m>\u001b[39m \u001b[38;5;28mlen\u001b[39m(c):\n\u001b[1;32m    674\u001b[0m     \u001b[38;5;66;03m# No further minimizing\u001b[39;00m\n\u001b[1;32m    675\u001b[0m     \u001b[38;5;28;01mif\u001b[39;00m \u001b[38;5;28mself\u001b[39m\u001b[38;5;241m.\u001b[39mverbose:\n",
      "\u001b[0;31mAssertionError\u001b[0m: "
     ]
    }
   ],
   "source": [
    "test_input = \"12345678\"\n",
    "print('Minimizing input: \"{}\"'.format(test_input))\n",
    "# Convert string into the delta format\n",
    "deltas = list(map(lambda x: (x, test_input[x]), range(len(test_input))))\n",
    "\n",
    "mydd = TestDD()\n",
    "mydd.verbose = 1\n",
    "mydd.debug_dd = 1\n",
    "c = mydd.ddmix(deltas)              # Invoke DDMIN\n",
    "minimal = \"\".join([x[1] for x in c])\n",
    "print('Found minimal test case: \"{}\"'.format(minimal))"
   ]
  },
  {
   "cell_type": "code",
   "execution_count": 7,
   "metadata": {},
   "outputs": [
    {
     "name": "stdout",
     "output_type": "stream",
     "text": [
      "Testing case \"1234\"     : FAIL\n",
      "Testing case \"12\"       : PASS\n",
      "Testing case \"123\"      : FAIL\n",
      "The 1-minimal failure-inducing difference is 3\n",
      "12 passes, 123 fails\n"
     ]
    }
   ],
   "source": [
    "mydd = TestDD()\n",
    "# mydd.verbose = 1\n",
    "(c, c1, c2) = mydd.dd(deltas)              # Invoke DDMIN\n",
    "c1 = \"\".join([x[1] for x in c1])\n",
    "c2 = \"\".join([x[1] for x in c2])\n",
    "c = \"\".join([x[1] for x in c])\n",
    "print(\"The 1-minimal failure-inducing difference is\", c)\n",
    "print(c1, \"passes,\", c2, \"fails\")"
   ]
  },
  {
   "cell_type": "code",
   "execution_count": null,
   "metadata": {},
   "outputs": [],
   "source": []
  }
 ],
 "metadata": {
  "kernelspec": {
   "display_name": "py",
   "language": "python",
   "name": "python3"
  },
  "language_info": {
   "codemirror_mode": {
    "name": "ipython",
    "version": 3
   },
   "file_extension": ".py",
   "mimetype": "text/x-python",
   "name": "python",
   "nbconvert_exporter": "python",
   "pygments_lexer": "ipython3",
   "version": "3.12.9"
  }
 },
 "nbformat": 4,
 "nbformat_minor": 2
}
