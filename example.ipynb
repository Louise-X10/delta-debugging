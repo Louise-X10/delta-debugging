{
 "cells": [
  {
   "cell_type": "code",
   "execution_count": 188,
   "metadata": {},
   "outputs": [],
   "source": [
    "from delta_debugging.DD import DD\n",
    "import difflib"
   ]
  },
  {
   "cell_type": "code",
   "execution_count": 189,
   "metadata": {},
   "outputs": [],
   "source": [
    "class TestDD(DD):\n",
    "\tdef __init__(self):\n",
    "\t\tDD.__init__(self)\n",
    "\t\tself.debug_dd = 0\n",
    "\t\tself.verbose = 0\n",
    "\tdef _test(self, deltas):\n",
    "\t\t# Build input file\n",
    "\t\tfound = []\n",
    "\t\tfor (index, byte) in deltas:\n",
    "\t\t\tif byte == \"1\" or byte == \"3\":\n",
    "\t\t\t\tfound.append(byte)\n",
    "\t\tret = self.PASS\n",
    "\t\tif found.count(\"1\") == 1 and found.count(\"3\") == 1:\n",
    "\t\t\tret = self.FAIL\n",
    "\t\tprint('Testing case {:11}: {}'.format('\"' + \"\".join([x[1] for x in deltas]) + '\"', str(ret)))\n",
    "\t\treturn ret\n",
    "\n"
   ]
  },
  {
   "cell_type": "code",
   "execution_count": 204,
   "metadata": {},
   "outputs": [],
   "source": [
    "def str_to_deltas(test_input):\n",
    "    deltas = list(map(lambda x: (x, test_input[x]), range(len(test_input))))\n",
    "    return deltas"
   ]
  },
  {
   "cell_type": "code",
   "execution_count": 190,
   "metadata": {},
   "outputs": [
    {
     "name": "stdout",
     "output_type": "stream",
     "text": [
      "Minimizing input: \"12345678\"\n"
     ]
    }
   ],
   "source": [
    "test_input = \"12345678\"\n",
    "print('Minimizing input: \"{}\"'.format(test_input))\n",
    "# Convert string into the delta format\n",
    "deltas = list(map(lambda x: (x, test_input[x]), range(len(test_input))))"
   ]
  },
  {
   "cell_type": "code",
   "execution_count": 191,
   "metadata": {},
   "outputs": [
    {
     "name": "stdout",
     "output_type": "stream",
     "text": [
      "dd([(0, '1'), (1, '2'), (2, '3'), (3, '4'), (4, '5'), (5, '6'), (6, '7'), (7, '8')], 2)...\n",
      "Testing case \"\"         : PASS\n",
      "Testing case \"12345678\" : FAIL\n",
      "Testing case \"5678\"     : PASS\n",
      "Testing case \"1234\"     : FAIL\n",
      "dd: reduced to 4\n",
      "deltas:\n",
      "[(0, '1'), (1, '2'), (2, '3'), (3, '4')]\n",
      "Testing case \"34\"       : PASS\n",
      "Testing case \"12\"       : PASS\n",
      "Testing case \"234\"      : PASS\n",
      "Testing case \"134\"      : FAIL\n",
      "dd: reduced to 3\n",
      "deltas:\n",
      "[(0, '1'), (2, '3'), (3, '4')]\n",
      "Testing case \"14\"       : PASS\n",
      "Testing case \"13\"       : FAIL\n",
      "dd: reduced to 2\n",
      "deltas:\n",
      "[(0, '1'), (2, '3')]\n",
      "Testing case \"3\"        : PASS\n",
      "Testing case \"1\"        : PASS\n",
      "dd: done\n",
      "dd([(0, '1'), (1, '2'), (2, '3'), (3, '4'), (4, '5'), (5, '6'), (6, '7'), (7, '8')], 2) = [(0, '1'), (2, '3')]\n",
      "Found minimal test case: \"13\"\n"
     ]
    }
   ],
   "source": [
    "mydd = TestDD()\n",
    "mydd.verbose = 0\n",
    "mydd.debug_dd = 1\n",
    "c = mydd.ddmin(deltas)              # Invoke DDMIN\n",
    "minimal = \"\".join([x[1] for x in c])\n",
    "print('Found minimal test case: \"{}\"'.format(minimal))"
   ]
  },
  {
   "cell_type": "code",
   "execution_count": 192,
   "metadata": {},
   "outputs": [],
   "source": [
    "# test_input = \"2345678\"\n",
    "# print('Minimizing input: \"{}\"'.format(test_input))\n",
    "# # Convert string into the delta format\n",
    "# deltas = list(map(lambda x: (x, test_input[x]), range(len(test_input))))\n",
    "\n",
    "# mydd = TestDD()\n",
    "# mydd.verbose = 1\n",
    "# mydd.debug_dd = 1\n",
    "# c = mydd.ddmax(deltas)              # Invoke DDMIN\n",
    "# minimal = \"\".join([x[1] for x in c])\n",
    "# print('Found minimal test case: \"{}\"'.format(minimal))"
   ]
  },
  {
   "cell_type": "code",
   "execution_count": 193,
   "metadata": {},
   "outputs": [
    {
     "name": "stdout",
     "output_type": "stream",
     "text": [
      "Testing case \"1234\"     : FAIL\n",
      "Testing case \"12\"       : PASS\n",
      "Testing case \"123\"      : FAIL\n",
      "The 1-minimal failure-inducing difference is 3\n",
      "12 passes, 123 fails\n"
     ]
    }
   ],
   "source": [
    "mydd = TestDD()\n",
    "# mydd.verbose = 1\n",
    "(c, c1, c2) = mydd.dd(deltas)              # Invoke DDMIN\n",
    "c1 = \"\".join([x[1] for x in c1])\n",
    "c2 = \"\".join([x[1] for x in c2])\n",
    "c = \"\".join([x[1] for x in c])\n",
    "print(\"The 1-minimal failure-inducing difference is\", c)\n",
    "print(c1, \"passes,\", c2, \"fails\")"
   ]
  },
  {
   "cell_type": "markdown",
   "metadata": {},
   "source": [
    "## String processing\n",
    "<hr>"
   ]
  },
  {
   "cell_type": "code",
   "execution_count": 284,
   "metadata": {},
   "outputs": [],
   "source": [
    "def get_mods(string1, string2):\n",
    "    # Get list of modifications to change string1 into string2\n",
    "    mods = []\n",
    "    s = difflib.SequenceMatcher()\n",
    "    s.set_seqs(string1, string2)\n",
    "    matching_blocks = s.get_matching_blocks()\n",
    "\n",
    "    # Traverse the matching blocks and identify insertions\n",
    "    for i, block in enumerate(matching_blocks):\n",
    "        # Check fore insertion before first match\n",
    "        if i == 0 and block.b > 0:\n",
    "            insert_str = string2[:block.b]\n",
    "            for char in insert_str:\n",
    "                mods.append((-1, char, mydd.ADD))\n",
    "        # Check for insertions between matches\n",
    "        if i < len(matching_blocks) - 1:\n",
    "            next_block = matching_blocks[i + 1]\n",
    "            insert_str = string2[(block.b+1):next_block.b]\n",
    "            for char in insert_str:\n",
    "                mods.append((block.a, char, mydd.ADD))\n",
    "\n",
    "    diff = list(difflib.ndiff(string1, string2))\n",
    "    remove_idx = 0\n",
    "    for d in diff:\n",
    "        if d.startswith(\"- \"):  # Removed character\n",
    "            mods.append((remove_idx, d[2], mydd.REMOVE))\n",
    "            remove_idx += 1\n",
    "        elif d.startswith(\" \"): # Not removed character\n",
    "            remove_idx += 1\n",
    "\n",
    "    return mods\n"
   ]
  },
  {
   "cell_type": "code",
   "execution_count": 291,
   "metadata": {},
   "outputs": [],
   "source": [
    "def split_mods(mods):\n",
    "    prepend = []\n",
    "    inserted = []\n",
    "    removed = []\n",
    "    for pos, char, op in mods:\n",
    "        if pos == -1:\n",
    "            prepend.append((pos, char))  # Collect elements with index -1\n",
    "        elif op == mydd.ADD:\n",
    "            inserted.append((pos, char))\n",
    "        elif op == mydd.REMOVE:\n",
    "            removed.append((pos, char))\n",
    "    return prepend, inserted, removed\n",
    "\n",
    "def apply_remove(deltas, removed):\n",
    "    delta_dict = {idx: char for idx, char in deltas}\n",
    "    for start_idx, chars in removed:\n",
    "        for i in range(len(chars)):  # Remove each character from the given start index\n",
    "            if start_idx + i in delta_dict:\n",
    "                del delta_dict[start_idx + i]\n",
    "    deltas = sorted(delta_dict.items())\n",
    "    return deltas\n",
    "\n",
    "def apply_insert(deltas, inserted):\n",
    "    for insert_idx, chars in inserted:\n",
    "        # Find the index in new_deltas where to insert\n",
    "        for i, (idx, _) in enumerate(deltas):\n",
    "            if idx == insert_idx:\n",
    "                for char in chars:\n",
    "                    deltas.insert(i + 1, (None, char))  # Use None as a placeholder index\n",
    "                break\n",
    "    return deltas\n",
    "\n",
    "def apply_prepend(deltas, prepend):\n",
    "    prepend_chars = [(-1, entry[1]) for entry in prepend]\n",
    "    deltas = prepend_chars + deltas\n",
    "    return deltas\n",
    "\n",
    "def apply_mods(deltas, mods):\n",
    "    prepend, inserted, removed = split_mods(mods)\n",
    "    deltas = apply_remove(deltas, removed)\n",
    "    deltas = apply_insert(deltas, inserted)\n",
    "    deltas = apply_prepend(deltas, prepend)\n",
    "    deltas = [(i, char) for i, (_, char) in enumerate(deltas)]\n",
    "    return deltas"
   ]
  },
  {
   "cell_type": "code",
   "execution_count": 297,
   "metadata": {},
   "outputs": [
    {
     "name": "stdout",
     "output_type": "stream",
     "text": [
      "[(-1, '<', 'ADD'), (-1, '5', 'ADD'), (-1, '5', 'ADD'), (-1, '5', 'ADD'), (0, '3', 'ADD'), (4, ';', 'ADD'), (1, '2', 'REMOVE'), (2, '2', 'REMOVE'), (3, '2', 'REMOVE')]\n"
     ]
    }
   ],
   "source": [
    "string1 = \"1222>\"\n",
    "string2 = \"<55513>;\"\n",
    "mods = get_mods(string1, string2)\n",
    "prepend, inserted, removed = split_mods(mods)\n",
    "# print(mods)\n",
    "# print(prepend)\n",
    "# print(inserted)\n",
    "# print(removed)"
   ]
  },
  {
   "cell_type": "code",
   "execution_count": 295,
   "metadata": {},
   "outputs": [
    {
     "data": {
      "text/plain": [
       "True"
      ]
     },
     "execution_count": 295,
     "metadata": {},
     "output_type": "execute_result"
    }
   ],
   "source": [
    "deltas1 = str_to_deltas(string1)\n",
    "deltas2 = str_to_deltas(string2)\n",
    "# print(deltas1)\n",
    "# print(deltas2)\n",
    "# apply_mods(deltas1, mods)\n",
    "apply_mods(deltas1, mods) == deltas2"
   ]
  },
  {
   "cell_type": "markdown",
   "metadata": {},
   "source": [
    "### Split experiments"
   ]
  },
  {
   "cell_type": "code",
   "execution_count": 302,
   "metadata": {},
   "outputs": [],
   "source": [
    "def split(mods, n=2):\n",
    "    subsets = []\n",
    "    start = 0\n",
    "    for i in range(n):\n",
    "        subset = mods[start:int(start + (len(mods) - start) / (n - i))]\n",
    "        subsets.append(subset)\n",
    "        start = start + len(subset)\n",
    "    return subsets"
   ]
  },
  {
   "cell_type": "code",
   "execution_count": 305,
   "metadata": {},
   "outputs": [
    {
     "name": "stdout",
     "output_type": "stream",
     "text": [
      "[(-1, '<', 'ADD'), (-1, '5', 'ADD'), (-1, '5', 'ADD'), (-1, '5', 'ADD')]\n",
      "[(0, '3', 'ADD'), (4, ';', 'ADD'), (1, '2', 'REMOVE'), (2, '2', 'REMOVE'), (3, '2', 'REMOVE')]\n"
     ]
    },
    {
     "data": {
      "text/plain": [
       "(None, None)"
      ]
     },
     "execution_count": 305,
     "metadata": {},
     "output_type": "execute_result"
    }
   ],
   "source": [
    "print(split(mods)[0]), print(split(mods)[1])"
   ]
  },
  {
   "cell_type": "markdown",
   "metadata": {},
   "source": [
    "### String combine experiments"
   ]
  },
  {
   "cell_type": "code",
   "execution_count": 248,
   "metadata": {},
   "outputs": [],
   "source": [
    "def split_mods(mods):\n",
    "    prepend = []\n",
    "    inserted = []\n",
    "    removed = []\n",
    "    for pos, char, op in mods:\n",
    "        if pos == -1:\n",
    "            prepend.append((pos, char))  # Collect elements with index -1\n",
    "        elif op == mydd.ADD:\n",
    "            inserted.append((pos, char))\n",
    "        elif op == mydd.REMOVE:\n",
    "            removed.append((pos, char))\n",
    "    return prepend, inserted, removed\n"
   ]
  },
  {
   "cell_type": "code",
   "execution_count": 255,
   "metadata": {},
   "outputs": [],
   "source": [
    "def apply_remove(deltas, removed):\n",
    "    delta_dict = {idx: char for idx, char in deltas}\n",
    "    for start_idx, chars in removed:\n",
    "        for i in range(len(chars)):  # Remove each character from the given start index\n",
    "            if start_idx + i in delta_dict:\n",
    "                del delta_dict[start_idx + i]\n",
    "    deltas = sorted(delta_dict.items())\n",
    "    return deltas\n",
    "\n",
    "def apply_insert(deltas, inserted):\n",
    "    for insert_idx, chars in inserted:\n",
    "        # Find the index in new_deltas where to insert\n",
    "        for i, (idx, _) in enumerate(deltas):\n",
    "            if idx == insert_idx:\n",
    "                for char in chars:\n",
    "                    deltas.insert(i + 1, (None, char))  # Use None as a placeholder index\n",
    "                break\n",
    "    return deltas\n",
    "\n",
    "def apply_prepend(deltas, prepend):\n",
    "    if prepend:\n",
    "        before_idx, chars = prepend[0]  # Always inserting before the first element\n",
    "        deltas = [(i, char) for i, char in enumerate(chars)] + deltas\n",
    "    return deltas\n",
    "\n",
    "def apply_mods(deltas, mods):\n",
    "    prepend, inserted, removed = split_mods(mods)\n",
    "    deltas = apply_remove(deltas, removed)\n",
    "    deltas = apply_insert(deltas, inserted)\n",
    "    deltas = apply_prepend(deltas, prepend)\n",
    "    deltas = [(i, char) for i, (_, char) in enumerate(deltas)]\n",
    "    return deltas"
   ]
  },
  {
   "cell_type": "code",
   "execution_count": 257,
   "metadata": {},
   "outputs": [
    {
     "data": {
      "text/plain": [
       "True"
      ]
     },
     "execution_count": 257,
     "metadata": {},
     "output_type": "execute_result"
    }
   ],
   "source": [
    "deltas1 = str_to_deltas(string1)\n",
    "deltas2 = str_to_deltas(string2)\n",
    "apply_mods(deltas1, all) == deltas2"
   ]
  },
  {
   "cell_type": "code",
   "execution_count": null,
   "metadata": {},
   "outputs": [],
   "source": [
    "def apply_deltas(deltas, inserted_before, inserted_between, removed):\n",
    "    delta_dict = {idx: char for idx, char in deltas}\n",
    "\n",
    "    for start_idx, chars in removed:\n",
    "        for i in range(len(chars)):  # Remove each character from the given start index\n",
    "            if start_idx + i in delta_dict:\n",
    "                del delta_dict[start_idx + i]\n",
    "\n",
    "    deltas = sorted(delta_dict.items())\n",
    "\n",
    "    # Step 3: Insert \"Inserted Between\" elements while adjusting indices\n",
    "    for insert_idx, chars in inserted_between:\n",
    "        # Find the index in new_deltas where to insert\n",
    "        for i, (idx, _) in enumerate(deltas):\n",
    "            if idx == insert_idx:\n",
    "                for char in chars:\n",
    "                    deltas.insert(i + 1, (None, char))  # Use None as a placeholder index\n",
    "                break\n",
    "\n",
    "    if inserted_before:\n",
    "        before_idx, chars = inserted_before[0]  # Always inserting before the first element\n",
    "        deltas = [(i, char) for i, char in enumerate(chars)] + deltas\n",
    "\n",
    "    deltas = [(i, char) for i, (_, char) in enumerate(deltas)]\n",
    "    return deltas"
   ]
  },
  {
   "cell_type": "code",
   "execution_count": null,
   "metadata": {},
   "outputs": [],
   "source": [
    "deltas1 = str_to_deltas(string1)\n",
    "deltas2 = str_to_deltas(string2)\n",
    "apply_deltas(deltas1, inserted_before, inserted_between, removed) == deltas2"
   ]
  },
  {
   "cell_type": "markdown",
   "metadata": {},
   "source": [
    "### String comparison experiments"
   ]
  },
  {
   "cell_type": "code",
   "execution_count": null,
   "metadata": {},
   "outputs": [],
   "source": [
    "def get_mods(string1, string2):\n",
    "    # Get list of modifications to change string1 into string2\n",
    "    mods = []\n",
    "    s = difflib.SequenceMatcher()\n",
    "    s.set_seqs(string1, string2)\n",
    "    matching_blocks = s.get_matching_blocks()\n",
    "\n",
    "    # Traverse the matching blocks and identify insertions\n",
    "    for i, block in enumerate(matching_blocks):\n",
    "        # Check fore insertion before first match\n",
    "        if i == 0 and block.b > 0:\n",
    "            insert_str = string2[:block.b]\n",
    "            mods.append((-1, insert_str, mydd.ADD))\n",
    "        # Check for insertions between matches\n",
    "        if i < len(matching_blocks) - 1:\n",
    "            next_block = matching_blocks[i + 1]\n",
    "            insert_str = string2[(block.b+1):next_block.b]\n",
    "            mods.append((block.a, insert_str, mydd.ADD))\n",
    "\n",
    "    diff = list(difflib.ndiff(string1, string2))\n",
    "    index = 0\n",
    "    remove = []\n",
    "    remove_idx = -1\n",
    "    for d in diff:\n",
    "        if d.startswith(\"- \"):  # Removed character\n",
    "            if remove == []:\n",
    "                remove_idx = index\n",
    "            remove.append(d[2])\n",
    "        elif remove != []:\n",
    "            mods.append((remove_idx, \"\".join(remove), mydd.REMOVE))\n",
    "            remove = []\n",
    "        if d.startswith(\" \"): # Not removed character\n",
    "            index += 1\n",
    "\n",
    "    return mods"
   ]
  },
  {
   "cell_type": "code",
   "execution_count": null,
   "metadata": {},
   "outputs": [],
   "source": [
    "def string_compare(string1, string2):\n",
    "    # Initialize lists to track inserted and removed characters\n",
    "    inserted_before = []\n",
    "    inserted_between = []\n",
    "    removed = []\n",
    "\n",
    "    s = difflib.SequenceMatcher()\n",
    "    s.set_seqs(string1, string2)\n",
    "    matching_blocks = s.get_matching_blocks()\n",
    "\n",
    "    # Traverse the matching blocks and identify insertions\n",
    "    for i, block in enumerate(matching_blocks):\n",
    "        # Check fore insertion before first match\n",
    "        if i == 0 and block.b > 0:\n",
    "            insert_str = string2[:block.b]\n",
    "            inserted_before.append((-1, insert_str, mydd.ADD))\n",
    "        # Check for insertions between matches\n",
    "        if i < len(matching_blocks) - 1:\n",
    "            next_block = matching_blocks[i + 1]\n",
    "            insert_str = string2[(block.b+1):next_block.b]\n",
    "            inserted_between.append((block.a, insert_str, mydd.ADD))\n",
    "\n",
    "    diff = list(difflib.ndiff(string1, string2))\n",
    "    index = 0\n",
    "    remove = []\n",
    "    remove_idx = -1\n",
    "    for d in diff:\n",
    "        if d.startswith(\"- \"):  # Removed character\n",
    "            if remove == []:\n",
    "                remove_idx = index\n",
    "            remove.append(d[2])\n",
    "        elif remove != []:\n",
    "            removed.append((remove_idx, \"\".join(remove), mydd.REMOVE))\n",
    "            remove = []\n",
    "        if d.startswith(\" \"): # Not removed character\n",
    "            index += 1\n",
    "    print(\"Inserted before:\", inserted_before)\n",
    "    print(\"Inserted between:\", inserted_between)\n",
    "    print(\"Removed:\", removed)\n",
    "    print(\"All:\", removed + inserted_before + inserted_between)\n",
    "    all = removed + inserted_before + inserted_between\n",
    "\n",
    "    return inserted_before, inserted_between, removed, all\n"
   ]
  },
  {
   "cell_type": "code",
   "execution_count": 258,
   "metadata": {},
   "outputs": [
    {
     "name": "stdout",
     "output_type": "stream",
     "text": [
      "Inserted before: [(-1, '<555', 'ADD')]\n",
      "Inserted between: [(0, '3', 'ADD'), (4, ';', 'ADD')]\n",
      "Removed: [(1, '222', 'REMOVE')]\n",
      "All: [(1, '222', 'REMOVE'), (-1, '<555', 'ADD'), (0, '3', 'ADD'), (4, ';', 'ADD')]\n"
     ]
    }
   ],
   "source": [
    "string1 = \"1222>\"\n",
    "string2 = \"<55513>;\"\n",
    "inserted_before, inserted_between, removed, all = string_compare(string1, string2)"
   ]
  },
  {
   "cell_type": "code",
   "execution_count": 97,
   "metadata": {},
   "outputs": [
    {
     "data": {
      "text/plain": [
       "['  0', '  0', '  2', '  2', '- 6', '- 6', '+ 8', '+ 8', '+ 1', '+ 3']"
      ]
     },
     "execution_count": 97,
     "metadata": {},
     "output_type": "execute_result"
    }
   ],
   "source": [
    "diff = list(difflib.ndiff(pass_input, fail_input)); diff"
   ]
  },
  {
   "cell_type": "code",
   "execution_count": 153,
   "metadata": {},
   "outputs": [
    {
     "name": "stdout",
     "output_type": "stream",
     "text": [
      "['+ <', '+ 5', '+ 5', '+ 5', '  1', '+ 3', '- 2', '- 2', '- 2', '  >', '+ ;']\n",
      "ADD_BEFORE: ['<', '5', '5', '5']\n",
      "ADD_BETWEEN: ['3']\n",
      "ADD_AFTER: [';']\n",
      "REMOVE: ['2', '2', '2']\n"
     ]
    }
   ],
   "source": [
    "import difflib\n",
    "\n",
    "def compute_detailed_deltas(string1, string2):\n",
    "    \"\"\"\n",
    "    Computes four types of deltas:\n",
    "    - ADD_BEFORE: Characters that must be inserted before existing ones.\n",
    "    - ADD_BETWEEN: Characters inserted between unchanged characters.\n",
    "    - ADD_AFTER: Characters that must be inserted after the original content.\n",
    "    - REMOVE: Characters that must be removed.\n",
    "\n",
    "    Args:\n",
    "    - string1 (str): The original string.\n",
    "    - string2 (str): The target string.\n",
    "\n",
    "    Returns:\n",
    "    - dict: A dictionary with 'ADD_BEFORE', 'ADD_BETWEEN', 'ADD_AFTER', 'REMOVE' operations.\n",
    "    \"\"\"\n",
    "    diff = list(difflib.ndiff(string1, string2))\n",
    "    last_char = string2[-1]\n",
    "    print(diff)\n",
    "\n",
    "    add_before = []\n",
    "    add_between = []\n",
    "    add_after = []\n",
    "    remove = []\n",
    "\n",
    "    seen_first_match = False  # Track if we've seen the first unchanged character\n",
    "    seen_last_match = False   # Track if we've passed all unchanged characters\n",
    "\n",
    "    for d in diff:\n",
    "        if d.startswith(\"- \"):  # Removed character\n",
    "            remove.append(d[2])\n",
    "        elif d.startswith(\"+ \"):  # Added character\n",
    "            if not seen_first_match:  \n",
    "                add_before.append(d[2])  # Happens before any common character\n",
    "            elif seen_last_match:  \n",
    "                add_after.append(d[2])  # Happens after all common characters\n",
    "            else:\n",
    "                add_between.append(d[2])  # Inserted inside existing content\n",
    "        else:  # Unchanged character\n",
    "            seen_first_match = True\n",
    "        if seen_first_match and not d.startswith(\" \"):\n",
    "            seen_last_match = True  # We've moved past the last matching sequence\n",
    "\n",
    "    return {\n",
    "        \"ADD_BEFORE\": add_before,\n",
    "        \"ADD_BETWEEN\": add_between,\n",
    "        \"ADD_AFTER\": add_after,\n",
    "        \"REMOVE\": remove\n",
    "    }\n",
    "\n",
    "# Example usage:\n",
    "\n",
    "string1 = \"1222>\"\n",
    "string2 = \"<55513>;\"\n",
    "\n",
    "deltas = compute_detailed_deltas(string1, string2)\n",
    "print(\"ADD_BEFORE:\", deltas[\"ADD_BEFORE\"])   # Expected: ['s']\n",
    "print(\"ADD_BETWEEN:\", deltas[\"ADD_BETWEEN\"]) # Expected: ['i']\n",
    "print(\"ADD_AFTER:\", deltas[\"ADD_AFTER\"])     # Expected: ['g']\n",
    "print(\"REMOVE:\", deltas[\"REMOVE\"])           # Expected: ['k', 'e']\n"
   ]
  },
  {
   "cell_type": "code",
   "execution_count": 161,
   "metadata": {},
   "outputs": [],
   "source": [
    "from deepdiff import DeepDiff"
   ]
  },
  {
   "cell_type": "code",
   "execution_count": 174,
   "metadata": {},
   "outputs": [
    {
     "data": {
      "text/plain": [
       "[]"
      ]
     },
     "execution_count": 174,
     "metadata": {},
     "output_type": "execute_result"
    }
   ],
   "source": [
    "diff = DeepDiff(list(string1), list(string2))\n",
    "diff.get(\"dictionary_item_removed\", [])"
   ]
  },
  {
   "cell_type": "code",
   "execution_count": 175,
   "metadata": {},
   "outputs": [
    {
     "name": "stdout",
     "output_type": "stream",
     "text": [
      "{'values_changed': {'root[0]': {'new_value': '<', 'old_value': '1'}, 'root[1]': {'new_value': '5', 'old_value': '2'}, 'root[2]': {'new_value': '5', 'old_value': '2'}, 'root[3]': {'new_value': '5', 'old_value': '2'}, 'root[4]': {'new_value': '1', 'old_value': '>'}}, 'iterable_item_added': {'root[5]': '3', 'root[6]': '>', 'root[7]': ';'}}\n"
     ]
    }
   ],
   "source": [
    "print(diff)"
   ]
  },
  {
   "cell_type": "code",
   "execution_count": 154,
   "metadata": {},
   "outputs": [],
   "source": [
    "def isjunk(string):\n",
    "    \"Return True if we don't care about this string\"\n",
    "    return string == ' '\n"
   ]
  },
  {
   "cell_type": "code",
   "execution_count": 155,
   "metadata": {},
   "outputs": [],
   "source": [
    "s = difflib.SequenceMatcher(isjunk)\n",
    "s.set_seqs(string1, string2)"
   ]
  },
  {
   "cell_type": "code",
   "execution_count": 156,
   "metadata": {},
   "outputs": [
    {
     "name": "stdout",
     "output_type": "stream",
     "text": [
      "[Match(a=0, b=4, size=1), Match(a=4, b=6, size=1), Match(a=5, b=8, size=0)]\n"
     ]
    }
   ],
   "source": [
    "matching_blocks = s.get_matching_blocks(); print(matching_blocks)"
   ]
  },
  {
   "cell_type": "code",
   "execution_count": 177,
   "metadata": {},
   "outputs": [
    {
     "name": "stdout",
     "output_type": "stream",
     "text": [
      "Inserted before: [('<555', -1)]\n",
      "Inserted between: [('3', 0), (';', 4)]\n",
      "Removed: [('222', 1)]\n"
     ]
    }
   ],
   "source": [
    "# Initialize lists to track inserted and removed characters\n",
    "# insert_before = []\n",
    "inserts = []\n",
    "# insert_after = []\n",
    "inserted_before = []\n",
    "inserted_between = []\n",
    "removed = []\n",
    "\n",
    "# Traverse the matching blocks and identify insertions\n",
    "for i, block in enumerate(matching_blocks):\n",
    "    # Check fore insertion before first match\n",
    "    if i == 0 and block.b > 0:\n",
    "        insert_str = string2[:block.b]\n",
    "        inserted_before.append((insert_str, -1))\n",
    "    # Check for insertions between matches\n",
    "    if i < len(matching_blocks) - 1:\n",
    "        next_block = matching_blocks[i + 1]\n",
    "        insert_str = string2[(block.b+1):next_block.b]\n",
    "        inserted_between.append((insert_str, block.a))\n",
    "\n",
    "diff = list(difflib.ndiff(string1, string2))\n",
    "index = 0\n",
    "remove = []\n",
    "remove_idx = -1\n",
    "for d in diff:\n",
    "    if d.startswith(\"- \"):  # Removed character\n",
    "        if remove == []:\n",
    "            remove_idx = index\n",
    "        remove.append(d[2])\n",
    "    elif remove != []:\n",
    "        removed.append((\"\".join(remove), remove_idx))\n",
    "        remove = []\n",
    "    if d.startswith(\" \"): # Not removed character\n",
    "        index += 1\n",
    "\n",
    "# For removed characters, check those in string1 that are not in string2\n",
    "# removed = [string1[i] for i in range(len(string1)) if string1[i] not in string2]\n",
    "\n",
    "# Output the results\n",
    "print(\"Inserted before:\", inserted_before)\n",
    "print(\"Inserted between:\", inserted_between)\n",
    "print(\"Removed:\", removed)"
   ]
  },
  {
   "cell_type": "code",
   "execution_count": 179,
   "metadata": {},
   "outputs": [
    {
     "name": "stdout",
     "output_type": "stream",
     "text": [
      " insert '' -> '<555'\n",
      "replace '222' -> '3'\n",
      " insert '' -> ';'\n"
     ]
    }
   ],
   "source": [
    "# print(list(s.get_opcodes()))\n",
    "for (\n",
    "        opcode,\n",
    "        before_start, before_end,\n",
    "        after_start, after_end\n",
    ") in s.get_opcodes():\n",
    "    if opcode == 'equal':\n",
    "        # We don't care.\n",
    "        continue\n",
    "    print (\"%7s '%s' -> '%s'\" % (\n",
    "            opcode,\n",
    "            string1[before_start:before_end],\n",
    "            string2[after_start:after_end],\n",
    ") )"
   ]
  },
  {
   "cell_type": "code",
   "execution_count": null,
   "metadata": {},
   "outputs": [],
   "source": [
    "delta_add_before = []\n",
    "delta_remove = []\n",
    "for d in diff:\n",
    "        if d.startswith(\"- \"):  # Removal\n",
    "            remove.append(d[2])\n",
    "            prev_char = d[2]  # Removed character\n",
    "        elif d.startswith(\"+ \"):  # Addition\n",
    "            if prev_char is None:  # At the beginning\n",
    "                add_before.append(d[2])\n",
    "            else:  # After some existing character\n",
    "                add_after.append(d[2])\n",
    "            prev_char = None  # Reset since an addition follows a valid character\n",
    "        else:  # Unchanged character\n",
    "            prev_char = d[2]"
   ]
  },
  {
   "cell_type": "code",
   "execution_count": 88,
   "metadata": {},
   "outputs": [
    {
     "name": "stdout",
     "output_type": "stream",
     "text": [
      "delta_add: ['8', '8', '1', '3'], delta_remove: ['2', '4', '6', '6']\n"
     ]
    }
   ],
   "source": [
    "delta_add = []\n",
    "delta_remove = []\n",
    "for i,s in enumerate(difflib.ndiff(pass_input, fail_input)):\n",
    "    if s[0]=='-':\n",
    "        delta_remove.append(s[-1])\n",
    "    elif s[0]=='+': \n",
    "        delta_add.append(s[-1])\n",
    "print(f'delta_add: {delta_add}, delta_remove: {delta_remove}')"
   ]
  },
  {
   "cell_type": "code",
   "execution_count": 87,
   "metadata": {},
   "outputs": [
    {
     "name": "stdout",
     "output_type": "stream",
     "text": [
      "2466 => 8813\n",
      "Delete \"2\" from position 0\n",
      "Delete \"4\" from position 1\n",
      "Delete \"6\" from position 2\n",
      "Delete \"6\" from position 3\n",
      "Add \"8\" to position 4\n",
      "Add \"8\" to position 5\n",
      "Add \"1\" to position 6\n",
      "Add \"3\" to position 7\n",
      "\n"
     ]
    }
   ],
   "source": [
    "for a,b in [(pass_input, fail_input)]:     \n",
    "    print('{} => {}'.format(a,b))  \n",
    "    for i,s in enumerate(difflib.ndiff(a, b)):\n",
    "        if s[0]==' ': 'Nothing'\n",
    "        elif s[0]=='-':\n",
    "            print(u'Delete \"{}\" from position {}'.format(s[-1],i))\n",
    "        elif s[0]=='+':\n",
    "            print(u'Add \"{}\" to position {}'.format(s[-1],i))    \n",
    "    print()      "
   ]
  },
  {
   "cell_type": "markdown",
   "metadata": {},
   "source": [
    "## Others"
   ]
  },
  {
   "cell_type": "code",
   "execution_count": null,
   "metadata": {},
   "outputs": [],
   "source": [
    "pass_input = \"002266\"\n",
    "fail_input = \"00228813\"\n",
    "# c1 = list(map(lambda x: (x, pass_input[x]), range(len(pass_input))))\n",
    "# c2 = list(map(lambda x: (x, fail_input[x]), range(len(fail_input))))\n",
    "# mydd._DD__listunion(c1, c2)"
   ]
  },
  {
   "cell_type": "code",
   "execution_count": 45,
   "metadata": {},
   "outputs": [],
   "source": [
    "all_input = pass_input + fail_input\n",
    "c = list(map(lambda x: (x, all_input[x]), range(len(all_input))))\n",
    "c1 = c[:3]\n",
    "c2 = c[3:]"
   ]
  },
  {
   "cell_type": "code",
   "execution_count": 46,
   "metadata": {},
   "outputs": [
    {
     "name": "stdout",
     "output_type": "stream",
     "text": [
      "PASS\n",
      "Testing case \"8813\"     : FAIL\n",
      "FAIL\n"
     ]
    }
   ],
   "source": [
    "print(mydd.test(c1)); print(mydd.test(c2))"
   ]
  },
  {
   "cell_type": "code",
   "execution_count": 47,
   "metadata": {},
   "outputs": [],
   "source": [
    "c = c2\n",
    "cs = mydd.split(c, 2)"
   ]
  },
  {
   "cell_type": "code",
   "execution_count": 48,
   "metadata": {},
   "outputs": [
    {
     "data": {
      "text/plain": [
       "[[(3, '8'), (4, '8')], [(5, '1'), (6, '3')]]"
      ]
     },
     "execution_count": 48,
     "metadata": {},
     "output_type": "execute_result"
    }
   ],
   "source": [
    "cs"
   ]
  },
  {
   "cell_type": "code",
   "execution_count": 53,
   "metadata": {},
   "outputs": [
    {
     "name": "stdout",
     "output_type": "stream",
     "text": [
      "Testing case \"24688\"    : PASS\n"
     ]
    },
    {
     "data": {
      "text/plain": [
       "('PASS', [(3, '8'), (4, '8')])"
      ]
     },
     "execution_count": 53,
     "metadata": {},
     "output_type": "execute_result"
    }
   ],
   "source": [
    "i=0\n",
    "mydd = TestDD()\n",
    "mydd.test_and_resolve(cs[i], c1, c, mydd.REMOVE)"
   ]
  },
  {
   "cell_type": "code",
   "execution_count": 58,
   "metadata": {},
   "outputs": [
    {
     "data": {
      "text/plain": [
       "{(0, '2'): <delta_debugging.DD.OutcomeCache at 0x11bb73ad0>}"
      ]
     },
     "execution_count": 58,
     "metadata": {},
     "output_type": "execute_result"
    }
   ],
   "source": [
    "mydd.outcome_cache.tail"
   ]
  },
  {
   "cell_type": "code",
   "execution_count": 59,
   "metadata": {},
   "outputs": [
    {
     "data": {
      "text/plain": [
       "[(0, '2', 'ADD'),\n",
       " (1, '4', 'ADD'),\n",
       " (2, '6', 'ADD'),\n",
       " (3, '8', 'ADD'),\n",
       " (4, '8', 'ADD'),\n",
       " (5, '1', 'ADD'),\n",
       " (6, '3', 'ADD')]"
      ]
     },
     "execution_count": 59,
     "metadata": {},
     "output_type": "execute_result"
    }
   ],
   "source": [
    "list(map(lambda x: (x, all_input[x], mydd.ADD), range(len(all_input))))"
   ]
  },
  {
   "cell_type": "code",
   "execution_count": 60,
   "metadata": {},
   "outputs": [],
   "source": [
    "s1 = {}\n",
    "for delta in c1:\n",
    "    s1[delta] = 1"
   ]
  },
  {
   "cell_type": "code",
   "execution_count": 61,
   "metadata": {},
   "outputs": [
    {
     "data": {
      "text/plain": [
       "{(0, '2'): 1, (1, '4'): 1, (2, '6'): 1}"
      ]
     },
     "execution_count": 61,
     "metadata": {},
     "output_type": "execute_result"
    }
   ],
   "source": [
    "s1"
   ]
  },
  {
   "cell_type": "code",
   "execution_count": 64,
   "metadata": {},
   "outputs": [],
   "source": [
    "delta = (0, '2', mydd.REMOVE)"
   ]
  },
  {
   "cell_type": "code",
   "execution_count": 66,
   "metadata": {},
   "outputs": [],
   "source": [
    "s1[delta[:2]] -=1"
   ]
  },
  {
   "cell_type": "code",
   "execution_count": 67,
   "metadata": {},
   "outputs": [
    {
     "data": {
      "text/plain": [
       "{(0, '2'): 0, (1, '4'): 1, (2, '6'): 1}"
      ]
     },
     "execution_count": 67,
     "metadata": {},
     "output_type": "execute_result"
    }
   ],
   "source": [
    "s1"
   ]
  },
  {
   "cell_type": "code",
   "execution_count": 73,
   "metadata": {},
   "outputs": [],
   "source": [
    "c1.remove(delta[:2])"
   ]
  },
  {
   "cell_type": "code",
   "execution_count": 74,
   "metadata": {},
   "outputs": [
    {
     "data": {
      "text/plain": [
       "[(1, '4'), (2, '6')]"
      ]
     },
     "execution_count": 74,
     "metadata": {},
     "output_type": "execute_result"
    }
   ],
   "source": [
    "c1"
   ]
  },
  {
   "cell_type": "code",
   "execution_count": null,
   "metadata": {},
   "outputs": [],
   "source": []
  }
 ],
 "metadata": {
  "kernelspec": {
   "display_name": "py",
   "language": "python",
   "name": "python3"
  },
  "language_info": {
   "codemirror_mode": {
    "name": "ipython",
    "version": 3
   },
   "file_extension": ".py",
   "mimetype": "text/x-python",
   "name": "python",
   "nbconvert_exporter": "python",
   "pygments_lexer": "ipython3",
   "version": "3.12.9"
  }
 },
 "nbformat": 4,
 "nbformat_minor": 2
}
