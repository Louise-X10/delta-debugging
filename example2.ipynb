{
 "cells": [
  {
   "cell_type": "code",
   "execution_count": 1,
   "metadata": {},
   "outputs": [],
   "source": [
    "import delta_debugging\n",
    "from delta_debugging.DD_mod import DDMods\n",
    "import json"
   ]
  },
  {
   "cell_type": "code",
   "execution_count": 2,
   "metadata": {},
   "outputs": [],
   "source": [
    "\n",
    "class TestDD(DDMods):\n",
    "    def __init__(self):\n",
    "        DDMods.__init__(self)\n",
    "        self.debug_dd = 0\n",
    "        self.verbose = 0\n",
    "\n",
    "    def _test(self, deltas):\n",
    "        print('Testing case {:11}. '.format(\n",
    "            '\"' + \"\".join([x[1] for x in deltas])))\n",
    "        if deltas == []:\n",
    "            print('Test passed: empty string')\n",
    "            return self.PASS\n",
    "        try:\n",
    "            # Attempt to load the JSON\n",
    "            parsed_json = json.loads(deltas_to_str(deltas))\n",
    "\n",
    "            for key in parsed_json:\n",
    "                # Check if value is a list\n",
    "                if isinstance(parsed_json[key], list):\n",
    "                    print(f\"Test failed: {key} is a list.\")\n",
    "                    return self.FAIL\n",
    "            return self.PASS\n",
    "\n",
    "        except json.JSONDecodeError as e:\n",
    "            # If there's a decoding error, print the error message\n",
    "            print(f\"Test unresolved: {e}\")\n",
    "            return self.UNRESOLVED\n",
    "\n",
    "\n",
    "def str_to_deltas(test_input):\n",
    "    deltas = list(map(lambda x: (x, test_input[x]), range(len(test_input))))\n",
    "    return deltas\n",
    "\n",
    "\n",
    "def deltas_to_str(deltas):\n",
    "    return \"\".join([x[1] for x in deltas])\n"
   ]
  },
  {
   "cell_type": "markdown",
   "metadata": {},
   "source": [
    "## Min fail input"
   ]
  },
  {
   "cell_type": "code",
   "execution_count": 15,
   "metadata": {},
   "outputs": [
    {
     "name": "stdout",
     "output_type": "stream",
     "text": [
      "Testing case \"          . \n",
      "Test passed: empty string\n",
      "Testing case \"{\"baz\": 7, \"baaa\": [1, 2]}. \n",
      "Test failed: baaa is a list.\n",
      "Testing case \"aaa\": [1, 2]}. \n",
      "Test unresolved: Expecting value: line 1 column 1 (char 0)\n",
      "Testing case \"{\"baz\": 7, \"b. \n",
      "Test unresolved: Unterminated string starting at: line 1 column 12 (char 11)\n",
      "Testing case \": 7, \"baaa\": [1, 2]}. \n",
      "Test unresolved: Expecting value: line 1 column 1 (char 0)\n",
      "Testing case \"{\"baz\"baaa\": [1, 2]}. \n",
      "Test unresolved: Expecting ':' delimiter: line 1 column 7 (char 6)\n",
      "Testing case \"{\"baz\": 7, \"[1, 2]}. \n",
      "Test unresolved: Unterminated string starting at: line 1 column 12 (char 11)\n",
      "Testing case \"{\"baz\": 7, \"baaa\": . \n",
      "Test unresolved: Expecting value: line 1 column 20 (char 19)\n",
      "Testing case \"az\": 7, \"baaa\": [1, 2]}. \n",
      "Test unresolved: Expecting value: line 1 column 1 (char 0)\n",
      "Testing case \"{\"b: 7, \"baaa\": [1, 2]}. \n",
      "Test unresolved: Expecting ':' delimiter: line 1 column 10 (char 9)\n",
      "Testing case \"{\"baz\", \"baaa\": [1, 2]}. \n",
      "Test unresolved: Expecting ':' delimiter: line 1 column 7 (char 6)\n",
      "Testing case \"{\"baz\": 7baaa\": [1, 2]}. \n",
      "Test unresolved: Expecting ',' delimiter: line 1 column 10 (char 9)\n",
      "Testing case \"{\"baz\": 7, \"a\": [1, 2]}. \n",
      "Test failed: a is a list.\n",
      "Testing case \"{\"baz\": 7, \" [1, 2]}. \n",
      "Test unresolved: Unterminated string starting at: line 1 column 12 (char 11)\n",
      "Testing case \"{\"baz\": 7, \"a\": 2]}. \n",
      "Test unresolved: Expecting ',' delimiter: line 1 column 18 (char 17)\n",
      "Testing case \"{\"baz\": 7, \"a\": [1,. \n",
      "Test unresolved: Expecting value: line 1 column 20 (char 19)\n",
      "Testing case \"az\": 7, \"a\": [1, 2]}. \n",
      "Test unresolved: Expecting value: line 1 column 1 (char 0)\n",
      "Testing case \"{\"b: 7, \"a\": [1, 2]}. \n",
      "Test unresolved: Expecting ':' delimiter: line 1 column 10 (char 9)\n",
      "Testing case \"{\"baz\", \"a\": [1, 2]}. \n",
      "Test unresolved: Expecting ':' delimiter: line 1 column 7 (char 6)\n",
      "Testing case \"{\"baz\": 7a\": [1, 2]}. \n",
      "Test unresolved: Expecting ',' delimiter: line 1 column 10 (char 9)\n",
      "Testing case \"{\"baz\": 7, \": [1, 2]}. \n",
      "Test unresolved: Unterminated string starting at: line 1 column 12 (char 11)\n",
      "Testing case \"{\"baz\": 7, \"a [1, 2]}. \n",
      "Test unresolved: Unterminated string starting at: line 1 column 12 (char 11)\n",
      "Testing case \"{\"baz\": 7, \"a\":1, 2]}. \n",
      "Test unresolved: Expecting property name enclosed in double quotes: line 1 column 19 (char 18)\n",
      "Testing case \"{\"baz\": 7, \"a\": [ 2]}. \n",
      "Test failed: a is a list.\n",
      "Testing case \"{\"baz\": 7, \"a\": []}. \n",
      "Test failed: a is a list.\n",
      "Testing case \"{\"baz\": 7, \"a\": [. \n",
      "Test unresolved: Expecting value: line 1 column 18 (char 17)\n",
      "Testing case \"\"baz\": 7, \"a\": []}. \n",
      "Test unresolved: Extra data: line 1 column 6 (char 5)\n",
      "Testing case \"{baz\": 7, \"a\": []}. \n",
      "Test unresolved: Expecting property name enclosed in double quotes: line 1 column 2 (char 1)\n",
      "Testing case \"{\"az\": 7, \"a\": []}. \n",
      "Test failed: a is a list.\n",
      "Testing case \"{\"z\": 7, \"a\": []}. \n",
      "Test failed: a is a list.\n",
      "Testing case \"{\"\": 7, \"a\": []}. \n",
      "Test failed: a is a list.\n",
      "Testing case \"{\" 7, \"a\": []}. \n",
      "Test unresolved: Expecting ':' delimiter: line 1 column 8 (char 7)\n",
      "Testing case \"{\"\":, \"a\": []}. \n",
      "Test unresolved: Expecting value: line 1 column 5 (char 4)\n",
      "Testing case \"{\"\": 7\"a\": []}. \n",
      "Test unresolved: Expecting ',' delimiter: line 1 column 7 (char 6)\n",
      "Testing case \"{\"\": 7, \": []}. \n",
      "Test unresolved: Unterminated string starting at: line 1 column 9 (char 8)\n",
      "Testing case \"{\"\": 7, \"a []}. \n",
      "Test unresolved: Unterminated string starting at: line 1 column 9 (char 8)\n",
      "Testing case \"{\"\": 7, \"a\":]}. \n",
      "Test unresolved: Expecting value: line 1 column 13 (char 12)\n",
      "Testing case \"{\"\": 7, \"a\": [. \n",
      "Test unresolved: Expecting value: line 1 column 15 (char 14)\n",
      "Testing case \"\"\": 7, \"a\": []}. \n",
      "Test unresolved: Extra data: line 1 column 3 (char 2)\n",
      "Testing case \"{\": 7, \"a\": []}. \n",
      "Test unresolved: Expecting ':' delimiter: line 1 column 9 (char 8)\n",
      "Testing case \"{\"\" 7, \"a\": []}. \n",
      "Test unresolved: Expecting ':' delimiter: line 1 column 5 (char 4)\n",
      "Testing case \"{\"\":7, \"a\": []}. \n",
      "Test failed: a is a list.\n",
      "Testing case \"{\"\":7 \"a\": []}. \n",
      "Test unresolved: Expecting ',' delimiter: line 1 column 7 (char 6)\n",
      "Testing case \"{\"\":7,\"a\": []}. \n",
      "Test failed: a is a list.\n",
      "Testing case \"{\"\":7,a\": []}. \n",
      "Test unresolved: Expecting property name enclosed in double quotes: line 1 column 7 (char 6)\n",
      "Testing case \"{\"\":7,\"\": []}. \n",
      "Test failed:  is a list.\n",
      "Testing case \"{\"\":7,\": []}. \n",
      "Test unresolved: Unterminated string starting at: line 1 column 7 (char 6)\n",
      "Testing case \"{\"\":7,\"\" []}. \n",
      "Test unresolved: Expecting ':' delimiter: line 1 column 10 (char 9)\n",
      "Testing case \"{\"\":7,\"\":[]}. \n",
      "Test failed:  is a list.\n",
      "Testing case \"{\"\":7,\"\":]}. \n",
      "Test unresolved: Expecting value: line 1 column 10 (char 9)\n",
      "Testing case \"{\"\":7,\"\":[}. \n",
      "Test unresolved: Expecting value: line 1 column 11 (char 10)\n",
      "Testing case \"{\"\":7,\"\":[]. \n",
      "Test unresolved: Expecting ',' delimiter: line 1 column 12 (char 11)\n",
      "Testing case \"\"\":7,\"\":[]}. \n",
      "Test unresolved: Extra data: line 1 column 3 (char 2)\n",
      "Testing case \"{\":7,\"\":[]}. \n",
      "Test unresolved: Expecting ':' delimiter: line 1 column 7 (char 6)\n",
      "Testing case \"{\":7,\"\":[]}. \n",
      "Test unresolved: Expecting ':' delimiter: line 1 column 7 (char 6)\n",
      "Testing case \"{\"\"7,\"\":[]}. \n",
      "Test unresolved: Expecting ':' delimiter: line 1 column 4 (char 3)\n",
      "Testing case \"{\"\":,\"\":[]}. \n",
      "Test unresolved: Expecting value: line 1 column 5 (char 4)\n",
      "Testing case \"{\"\":7\"\":[]}. \n",
      "Test unresolved: Expecting ',' delimiter: line 1 column 6 (char 5)\n",
      "Testing case \"{\"\":7,\":[]}. \n",
      "Test unresolved: Unterminated string starting at: line 1 column 7 (char 6)\n",
      "Testing case \"{\"\":7,\":[]}. \n",
      "Test unresolved: Unterminated string starting at: line 1 column 7 (char 6)\n",
      "Testing case \"{\"\":7,\"\"[]}. \n",
      "Test unresolved: Expecting ':' delimiter: line 1 column 9 (char 8)\n",
      "dd: done\n"
     ]
    }
   ],
   "source": [
    "mydd = TestDD()\n",
    "string1 = '{\"baz\": 7, \"baaa\": [1, 2]}'\n",
    "test_input = string1\n",
    "deltas = list(map(lambda x: (x, test_input[x]), range(len(test_input))))\n",
    "c = mydd.ddmin(deltas)              # Invoke DDMIN\n",
    "minimal = \"\".join([x[1] for x in c])"
   ]
  },
  {
   "cell_type": "code",
   "execution_count": 16,
   "metadata": {},
   "outputs": [
    {
     "name": "stdout",
     "output_type": "stream",
     "text": [
      "Found minimal test case: \"{\"\":7,\"\":[]}\"\n"
     ]
    }
   ],
   "source": [
    "print('Found minimal test case: \"{}\"'.format(minimal))"
   ]
  },
  {
   "cell_type": "markdown",
   "metadata": {},
   "source": [
    "## Max fail input"
   ]
  },
  {
   "cell_type": "code",
   "execution_count": 3,
   "metadata": {},
   "outputs": [],
   "source": [
    "mydd = TestDD()\n",
    "string1 = '{\"baz\": 7, \"baaa\": [1, 2]}'\n",
    "string1 = '{\"\":7,\"\":[]}'\n",
    "string1 = '{ \"foo\": 7,\"bar\" :[]}'\n",
    "# string1 = minimal # '{\"\":7,\"\":[]}'\n",
    "string2 = '{ \"foo\": \"bar\" }'\n",
    "mods = mydd.get_mods(string1, string2)\n",
    "c1 = str_to_deltas(string1)\n",
    "c2 = str_to_deltas(string2)\n",
    "c = mods"
   ]
  },
  {
   "cell_type": "code",
   "execution_count": 10,
   "metadata": {},
   "outputs": [
    {
     "data": {
      "text/plain": [
       "[(9, '7', 'REMOVE'),\n",
       " (10, ',', 'REMOVE'),\n",
       " (17, ':', 'REMOVE'),\n",
       " (18, '[', 'REMOVE'),\n",
       " (19, ']', 'REMOVE')]"
      ]
     },
     "execution_count": 10,
     "metadata": {},
     "output_type": "execute_result"
    }
   ],
   "source": [
    "mods"
   ]
  },
  {
   "cell_type": "code",
   "execution_count": 11,
   "metadata": {},
   "outputs": [
    {
     "name": "stdout",
     "output_type": "stream",
     "text": [
      "Expanding failure input  { \"foo\": 7,\"bar\" :[]}  to  { \"foo\": \"bar\" }\n"
     ]
    }
   ],
   "source": [
    "print(\"Expanding failure input \", mydd.pretty(c1), \" to \", mydd.pretty(c2))"
   ]
  },
  {
   "cell_type": "code",
   "execution_count": 12,
   "metadata": {},
   "outputs": [
    {
     "name": "stdout",
     "output_type": "stream",
     "text": [
      "Testing case \"{ \"foo\": \"bar\" :[]}. \n",
      "Test unresolved: Expecting ',' delimiter: line 1 column 16 (char 15)\n",
      "Testing case \"{ \"foo\": 7,\"bar\" }. \n",
      "Test unresolved: Expecting ':' delimiter: line 1 column 18 (char 17)\n",
      "Testing case \"{ \"foo\": ,\"bar\" :[]}. \n",
      "Test unresolved: Expecting value: line 1 column 10 (char 9)\n",
      "Testing case \"{ \"foo\": 7\"bar\" :[]}. \n",
      "Test unresolved: Expecting ',' delimiter: line 1 column 11 (char 10)\n",
      "Testing case \"{ \"foo\": 7,\"bar\" []}. \n",
      "Test unresolved: Expecting ':' delimiter: line 1 column 18 (char 17)\n",
      "Testing case \"{ \"foo\": 7,\"bar\" :}. \n",
      "Test unresolved: Expecting value: line 1 column 19 (char 18)\n",
      "Testing case \"{ \"foo\": 7,\"bar\" :]}. \n",
      "Test unresolved: Expecting value: line 1 column 19 (char 18)\n",
      "Testing case \"{ \"foo\": 7,\"bar\" :[}. \n",
      "Test unresolved: Expecting value: line 1 column 20 (char 19)\n"
     ]
    }
   ],
   "source": [
    "(c, c1, c2) = mydd.dddiff_mods(c1, c2, mods)"
   ]
  },
  {
   "cell_type": "code",
   "execution_count": 13,
   "metadata": {},
   "outputs": [
    {
     "name": "stdout",
     "output_type": "stream",
     "text": [
      "The minimal failure to  { \"foo\": \"bar\" }  is  { \"foo\": 7,\"bar\" :[]}\n",
      "The difference is  [(9, '7', 'REMOVE'), (10, ',', 'REMOVE'), (17, ':', 'REMOVE'), (18, '[', 'REMOVE'), (19, ']', 'REMOVE')]\n"
     ]
    }
   ],
   "source": [
    "print(\"The minimal failure to \", mydd.pretty(c2), \" is \", mydd.pretty(c1))\n",
    "print(\"The difference is \", c)"
   ]
  },
  {
   "cell_type": "markdown",
   "metadata": {},
   "source": [
    "### Verify input conditions"
   ]
  },
  {
   "cell_type": "code",
   "execution_count": 38,
   "metadata": {},
   "outputs": [
    {
     "name": "stdout",
     "output_type": "stream",
     "text": [
      "Testing case \"{\"\":7,\"\":[]}. \n",
      "Test failed:  is a list.\n",
      "Testing case \"{ \"foo\": \"bar\" }. \n"
     ]
    },
    {
     "data": {
      "text/plain": [
       "'PASS'"
      ]
     },
     "execution_count": 38,
     "metadata": {},
     "output_type": "execute_result"
    }
   ],
   "source": [
    "mydd._test(c1)\n",
    "mydd._test(c2)"
   ]
  },
  {
   "cell_type": "code",
   "execution_count": 43,
   "metadata": {},
   "outputs": [
    {
     "data": {
      "text/plain": [
       "('{\"baz\": 7, \"baaa\": [1, 2]}', '{ \"foo\": \"bar\" }')"
      ]
     },
     "execution_count": 43,
     "metadata": {},
     "output_type": "execute_result"
    }
   ],
   "source": [
    "mydd.pretty(c1), mydd.pretty(c2)"
   ]
  },
  {
   "cell_type": "code",
   "execution_count": 46,
   "metadata": {},
   "outputs": [
    {
     "data": {
      "text/plain": [
       "('{ \"oofbaz\":: 7, rab\"\"baaa\": [1, 2]}',\n",
       " '{\"baz\": 7, \"baaa\": [1, 2]}',\n",
       " '{ \"foo\": \"bar\" }')"
      ]
     },
     "execution_count": 46,
     "metadata": {},
     "output_type": "execute_result"
    }
   ],
   "source": [
    "cs = mydd.split(mods, 2)\n",
    "temp_c1 = mydd._DDMods__modsapply(c1, cs[0])\n",
    "mydd.pretty(temp_c1), mydd.pretty(c1), mydd.pretty(c2)\n",
    "# temp_mods = cs[1]\n",
    "# prepend, inserted, removed = mydd._DDMods__split_mods(temp_mods)\n",
    "# mydd._DDMods__apply_remove(temp_c1, removed)\n",
    "# # mydd._DDMods__apply_insert(temp_c1, inserted)\n",
    "# # print(deltas_to_str(mydd._DDMods__modsapply(temp_c1, )))"
   ]
  },
  {
   "cell_type": "markdown",
   "metadata": {},
   "source": [
    "## Different get_mods"
   ]
  },
  {
   "cell_type": "markdown",
   "metadata": {},
   "source": [
    "### Jsondiff"
   ]
  },
  {
   "cell_type": "code",
   "execution_count": 29,
   "metadata": {},
   "outputs": [],
   "source": [
    "from jsondiff import diff"
   ]
  },
  {
   "cell_type": "code",
   "execution_count": 30,
   "metadata": {},
   "outputs": [],
   "source": [
    "obj1 = json.loads(string1)\n",
    "obj2 = json.loads(string2)\n",
    "changes = diff(obj1, obj2)"
   ]
  },
  {
   "cell_type": "code",
   "execution_count": 33,
   "metadata": {},
   "outputs": [
    {
     "data": {
      "text/plain": [
       "({'foo': 7, 'bar': []}, {'foo': 'bar'}, {'foo': 'bar', delete: ['bar']})"
      ]
     },
     "execution_count": 33,
     "metadata": {},
     "output_type": "execute_result"
    }
   ],
   "source": [
    "obj1, obj2, changes"
   ]
  },
  {
   "cell_type": "code",
   "execution_count": 36,
   "metadata": {},
   "outputs": [],
   "source": [
    "def process_mods(changes, path=\"\"):\n",
    "    mods = []\n",
    "    if isinstance(changes, dict):  # If it's a dictionary, check for add/remove/modify\n",
    "        for key, value in changes.items():\n",
    "            new_path = f\"{path}/{key}\" if path else key\n",
    "            if value is None:  # Indicates deletion\n",
    "                mods.append((new_path, 'REMOVE'))\n",
    "            elif isinstance(value, dict):  # Substructure changed\n",
    "                process_mods(value, new_path)\n",
    "            else:  # Added or modified\n",
    "                mods.append((new_path, 'ADD'))\n",
    "    elif isinstance(changes, list):  # If it's a list, handle additions/removals\n",
    "        for idx, value in enumerate(changes):\n",
    "            new_path = f\"{path}[{idx}]\"\n",
    "            mods.append((new_path, 'ADD'))\n",
    "    return mods"
   ]
  },
  {
   "cell_type": "code",
   "execution_count": 37,
   "metadata": {},
   "outputs": [
    {
     "data": {
      "text/plain": [
       "[('foo', 'ADD'), (delete, 'ADD')]"
      ]
     },
     "execution_count": 37,
     "metadata": {},
     "output_type": "execute_result"
    }
   ],
   "source": [
    "mods = process_mods(changes)\n",
    "mods"
   ]
  },
  {
   "cell_type": "markdown",
   "metadata": {},
   "source": [
    "### Old diff"
   ]
  },
  {
   "cell_type": "code",
   "execution_count": 21,
   "metadata": {},
   "outputs": [],
   "source": [
    "import difflib \n",
    "mods = []\n",
    "s = difflib.SequenceMatcher()\n",
    "s.set_seqs(string1, string2)\n",
    "matching_blocks = s.get_matching_blocks()"
   ]
  },
  {
   "cell_type": "code",
   "execution_count": 25,
   "metadata": {},
   "outputs": [
    {
     "data": {
      "text/plain": [
       "('{ \"foo\": 7,\"bar\" :[]}', '{ \"foo\": \"bar\" }')"
      ]
     },
     "execution_count": 25,
     "metadata": {},
     "output_type": "execute_result"
    }
   ],
   "source": [
    "string1, string2"
   ]
  },
  {
   "cell_type": "code",
   "execution_count": 24,
   "metadata": {},
   "outputs": [
    {
     "data": {
      "text/plain": [
       "[('equal', 0, 9, 0, 9),\n",
       " ('delete', 9, 11, 9, 9),\n",
       " ('equal', 11, 17, 9, 15),\n",
       " ('delete', 17, 20, 15, 15),\n",
       " ('equal', 20, 21, 15, 16)]"
      ]
     },
     "execution_count": 24,
     "metadata": {},
     "output_type": "execute_result"
    }
   ],
   "source": [
    "s.get_opcodes()"
   ]
  },
  {
   "cell_type": "code",
   "execution_count": 22,
   "metadata": {},
   "outputs": [],
   "source": [
    "# Traverse the matching blocks and identify insertions\n",
    "for i, block in enumerate(matching_blocks):\n",
    "    # Check fore insertion before first match\n",
    "    if i == 0 and block.b > 0:\n",
    "        insert_str = string2[:block.b]\n",
    "        mods.append((-1, insert_str, mydd.ADD))\n",
    "    # Check for insertions between matches\n",
    "    if i < len(matching_blocks) - 1:\n",
    "        next_block = matching_blocks[i + 1]\n",
    "        insert_str = string2[(block.b+1):next_block.b]\n",
    "        mods.append((block.a, insert_str, mydd.ADD))"
   ]
  },
  {
   "cell_type": "code",
   "execution_count": 23,
   "metadata": {},
   "outputs": [
    {
     "data": {
      "text/plain": [
       "[(0, ' \"foo\": ', 'ADD'), (11, 'bar\" ', 'ADD'), (20, '', 'ADD')]"
      ]
     },
     "execution_count": 23,
     "metadata": {},
     "output_type": "execute_result"
    }
   ],
   "source": [
    "mods"
   ]
  },
  {
   "cell_type": "markdown",
   "metadata": {},
   "source": [
    "### Byte mods"
   ]
  },
  {
   "cell_type": "code",
   "execution_count": 4,
   "metadata": {},
   "outputs": [],
   "source": [
    "bytes1 = b\"abcdef\"\n",
    "bytes2 = b\"abXcdeYf\"\n",
    "modifications = mydd.get_mods(bytes1, bytes2)"
   ]
  },
  {
   "cell_type": "code",
   "execution_count": 6,
   "metadata": {},
   "outputs": [
    {
     "data": {
      "text/plain": [
       "['  97', '  98', '+ 88', '  99', '  100', '  101', '+ 89', '  102']"
      ]
     },
     "execution_count": 6,
     "metadata": {},
     "output_type": "execute_result"
    }
   ],
   "source": [
    "import difflib \n",
    "list(difflib.ndiff(bytes1, bytes2))"
   ]
  },
  {
   "cell_type": "code",
   "execution_count": 7,
   "metadata": {},
   "outputs": [
    {
     "data": {
      "text/plain": [
       "[(1, '88', 'ADD'), (4, '89', 'ADD')]"
      ]
     },
     "execution_count": 7,
     "metadata": {},
     "output_type": "execute_result"
    }
   ],
   "source": [
    "modifications"
   ]
  },
  {
   "cell_type": "markdown",
   "metadata": {},
   "source": [
    "## Debug utility"
   ]
  },
  {
   "cell_type": "code",
   "execution_count": 97,
   "metadata": {},
   "outputs": [],
   "source": [
    "mydd = TestDD()\n",
    "string1 = '{\"baz\": 7, \"baaa\": [1, 2]}'\n",
    "string1 = '{\"\":7,\"\":[]}'\n",
    "# string1 = minimal # '{\"\":7,\"\":[]}'\n",
    "string2 = '{\"foo\":\"bar\" }'\n",
    "mods = mydd.get_mods(string1, string2)\n",
    "c1 = str_to_deltas(string1)\n",
    "c2 = str_to_deltas(string2)\n",
    "c = mods"
   ]
  },
  {
   "cell_type": "markdown",
   "metadata": {},
   "source": [
    "### break down"
   ]
  },
  {
   "cell_type": "code",
   "execution_count": 98,
   "metadata": {},
   "outputs": [
    {
     "data": {
      "text/plain": [
       "[(1, 'f', 'ADD'),\n",
       " (1, 'o', 'ADD'),\n",
       " (1, 'o', 'ADD'),\n",
       " (4, '7', 'REMOVE'),\n",
       " (5, ',', 'REMOVE'),\n",
       " (6, 'b', 'ADD'),\n",
       " (6, 'a', 'ADD'),\n",
       " (6, 'r', 'ADD'),\n",
       " (7, ' ', 'ADD'),\n",
       " (8, ':', 'REMOVE'),\n",
       " (9, '[', 'REMOVE'),\n",
       " (10, ']', 'REMOVE')]"
      ]
     },
     "execution_count": 98,
     "metadata": {},
     "output_type": "execute_result"
    }
   ],
   "source": [
    "c = mods\n",
    "c"
   ]
  },
  {
   "cell_type": "code",
   "execution_count": 99,
   "metadata": {},
   "outputs": [
    {
     "name": "stdout",
     "output_type": "stream",
     "text": [
      "{\"\":7,\"\":[]}\n"
     ]
    },
    {
     "data": {
      "text/plain": [
       "[[(1, 'f', 'ADD'),\n",
       "  (1, 'o', 'ADD'),\n",
       "  (1, 'o', 'ADD'),\n",
       "  (4, '7', 'REMOVE'),\n",
       "  (5, ',', 'REMOVE'),\n",
       "  (6, 'b', 'ADD')],\n",
       " [(6, 'a', 'ADD'),\n",
       "  (6, 'r', 'ADD'),\n",
       "  (7, ' ', 'ADD'),\n",
       "  (8, ':', 'REMOVE'),\n",
       "  (9, '[', 'REMOVE'),\n",
       "  (10, ']', 'REMOVE')]]"
      ]
     },
     "execution_count": 99,
     "metadata": {},
     "output_type": "execute_result"
    }
   ],
   "source": [
    "print(mydd.pretty(c1))\n",
    "cs = mydd.split(c, 2)\n",
    "cs"
   ]
  },
  {
   "cell_type": "code",
   "execution_count": 62,
   "metadata": {},
   "outputs": [
    {
     "data": {
      "text/plain": [
       "([(0, '{'),\n",
       "  (1, '\"'),\n",
       "  (2, '\"'),\n",
       "  (3, ':'),\n",
       "  (4, '7'),\n",
       "  (5, ','),\n",
       "  (6, '\"'),\n",
       "  (7, '\"'),\n",
       "  (8, ':'),\n",
       "  (9, '['),\n",
       "  (10, ']'),\n",
       "  (11, '}')],\n",
       " [(1, 'f', 'ADD'),\n",
       "  (1, 'o', 'ADD'),\n",
       "  (1, 'o', 'ADD'),\n",
       "  (4, '7', 'REMOVE'),\n",
       "  (5, ',', 'REMOVE'),\n",
       "  (6, 'b', 'ADD')])"
      ]
     },
     "execution_count": 62,
     "metadata": {},
     "output_type": "execute_result"
    }
   ],
   "source": [
    "c1, cs[0]"
   ]
  },
  {
   "cell_type": "code",
   "execution_count": 75,
   "metadata": {},
   "outputs": [
    {
     "data": {
      "text/plain": [
       "[(1, 'f', 'ADD'), (1, 'o', 'ADD'), (1, 'o', 'ADD'), (4, '7', 'REMOVE')]"
      ]
     },
     "execution_count": 75,
     "metadata": {},
     "output_type": "execute_result"
    }
   ],
   "source": [
    "cs[0][:4]"
   ]
  },
  {
   "cell_type": "code",
   "execution_count": 100,
   "metadata": {},
   "outputs": [],
   "source": [
    "# mydd.test_mods_and_resolve(c1, cs[0], c2, mydd.REMOVE)\n",
    "prepend, inserted, removed = mydd._DDMods__split_mods(cs[0])\n",
    "# mydd._DDMods__apply_insert(c1, inserted)"
   ]
  },
  {
   "cell_type": "code",
   "execution_count": 101,
   "metadata": {},
   "outputs": [
    {
     "data": {
      "text/plain": [
       "{1: ['f', 'o', 'o'], 6: ['b']}"
      ]
     },
     "execution_count": 101,
     "metadata": {},
     "output_type": "execute_result"
    }
   ],
   "source": [
    "insertions = {}\n",
    "for insert_idx, char in inserted:\n",
    "    if insert_idx in insertions:\n",
    "        insertions[insert_idx].append(char)\n",
    "    else:\n",
    "        insertions[insert_idx] = [char]\n",
    "insertions"
   ]
  },
  {
   "cell_type": "code",
   "execution_count": 102,
   "metadata": {},
   "outputs": [
    {
     "data": {
      "text/plain": [
       "'{\"\":7,\"\":[]}'"
      ]
     },
     "execution_count": 102,
     "metadata": {},
     "output_type": "execute_result"
    }
   ],
   "source": [
    "mydd.pretty(c1)"
   ]
  },
  {
   "cell_type": "code",
   "execution_count": 119,
   "metadata": {},
   "outputs": [],
   "source": [
    "deltas = c1.copy()\n",
    "for insert_idx in sorted(insertions.keys(), reverse=True):\n",
    "    chars = insertions[insert_idx]\n",
    "    for i in range(len(deltas)-1, -1, -1):\n",
    "        idx, _ = deltas[i]\n",
    "        if idx == insert_idx:\n",
    "            # Insert chars in order after the found index\n",
    "            for char in reversed(chars):\n",
    "                deltas.insert(i + 1, (idx, char))  # Insert after the found index\n",
    "            break"
   ]
  },
  {
   "cell_type": "code",
   "execution_count": 126,
   "metadata": {},
   "outputs": [],
   "source": [
    "# deltas = c1.copy()\n",
    "for insert_idx in sorted(insertions.keys(), reverse=True):\n",
    "    chars = insertions[insert_idx]\n",
    "    # Find the insert index in deltas in reversed order\n",
    "    for i, (idx, _) in enumerate(reversed(deltas)):\n",
    "        if idx == insert_idx:\n",
    "            # Insert chars in reversed order\n",
    "            for char in (chars):\n",
    "                deltas.insert(len(deltas) - i, (idx, char))\n",
    "            break"
   ]
  },
  {
   "cell_type": "code",
   "execution_count": 127,
   "metadata": {},
   "outputs": [
    {
     "name": "stdout",
     "output_type": "stream",
     "text": [
      "{\"foofoo\":7,\"bb\":[]}\n"
     ]
    }
   ],
   "source": [
    "# deltas = c1.copy()\n",
    "print(mydd.pretty(deltas))"
   ]
  },
  {
   "cell_type": "code",
   "execution_count": null,
   "metadata": {},
   "outputs": [
    {
     "name": "stdout",
     "output_type": "stream",
     "text": [
      "Testing case \"{\"\":\"\"b:[]foo}. \n",
      "Test unresolved: Expecting ',' delimiter: line 1 column 7 (char 6)\n",
      "UNRESOLVED\n",
      "foo7,b\n",
      "{\"\":\"\"b:[]foo}\n"
     ]
    }
   ],
   "source": [
    "i = 0\n",
    "(t, csub) = mydd.test_mods_and_resolve(c1, cs[i], c2, mydd.REMOVE)\n",
    "print(t)\n",
    "print(mydd.pretty(cs[i]))\n",
    "print(mydd.pretty(csub))"
   ]
  },
  {
   "cell_type": "code",
   "execution_count": 25,
   "metadata": {},
   "outputs": [
    {
     "data": {
      "text/plain": [
       "[(1, 'o', 'ADD'),\n",
       " (3, ' ', 'ADD'),\n",
       " (4, '7', 'REMOVE'),\n",
       " (5, ',', 'REMOVE'),\n",
       " (6, 'b', 'ADD'),\n",
       " (6, 'a', 'ADD'),\n",
       " (6, 'r', 'ADD'),\n",
       " (7, ' ', 'ADD'),\n",
       " (8, ':', 'REMOVE'),\n",
       " (9, '[', 'REMOVE'),\n",
       " (10, ']', 'REMOVE')]"
      ]
     },
     "execution_count": 25,
     "metadata": {},
     "output_type": "execute_result"
    }
   ],
   "source": [
    "mydd._DDMods__modsminus(c, cs[0])"
   ]
  },
  {
   "cell_type": "code",
   "execution_count": 13,
   "metadata": {},
   "outputs": [
    {
     "name": "stdout",
     "output_type": "stream",
     "text": [
      "[(5, ',', 'REMOVE'), (6, 'b', 'ADD'), (6, 'a', 'ADD'), (6, 'r', 'ADD')]\n",
      "[(0, ' ', 'ADD'), (1, 'f', 'ADD'), (1, 'o', 'ADD'), (1, 'o', 'ADD'), (3, ' ', 'ADD'), (4, '7', 'REMOVE'), (7, ' ', 'ADD'), (8, ':', 'REMOVE'), (9, '[', 'REMOVE'), (10, ']', 'REMOVE')]\n",
      "2\n"
     ]
    }
   ],
   "source": [
    "print(cs[i])\n",
    "c1 = csub\n",
    "c = mydd._DDMods__modsminus(c, cs[i])\n",
    "print(c)\n",
    "n = 2\n",
    "print(n)"
   ]
  },
  {
   "cell_type": "code",
   "execution_count": 47,
   "metadata": {},
   "outputs": [
    {
     "data": {
      "text/plain": [
       "('{\"\":7,\"\":[]}', '{ \"foo\": \"bar\" }')"
      ]
     },
     "execution_count": 47,
     "metadata": {},
     "output_type": "execute_result"
    }
   ],
   "source": [
    "mydd.pretty(c1), mydd.pretty(c2)"
   ]
  },
  {
   "cell_type": "code",
   "execution_count": 48,
   "metadata": {},
   "outputs": [
    {
     "data": {
      "text/plain": [
       "[[(0, ' ', 'ADD'),\n",
       "  (1, 'f', 'ADD'),\n",
       "  (1, 'o', 'ADD'),\n",
       "  (1, 'o', 'ADD'),\n",
       "  (3, ' ', 'ADD'),\n",
       "  (4, '7', 'REMOVE'),\n",
       "  (5, ',', 'REMOVE')],\n",
       " [(6, 'b', 'ADD'),\n",
       "  (6, 'a', 'ADD'),\n",
       "  (6, 'r', 'ADD'),\n",
       "  (7, ' ', 'ADD'),\n",
       "  (8, ':', 'REMOVE'),\n",
       "  (9, '[', 'REMOVE'),\n",
       "  (10, ']', 'REMOVE')]]"
      ]
     },
     "execution_count": 48,
     "metadata": {},
     "output_type": "execute_result"
    }
   ],
   "source": [
    "cs"
   ]
  },
  {
   "cell_type": "code",
   "execution_count": null,
   "metadata": {},
   "outputs": [],
   "source": []
  },
  {
   "cell_type": "code",
   "execution_count": null,
   "metadata": {},
   "outputs": [],
   "source": []
  },
  {
   "cell_type": "markdown",
   "metadata": {},
   "source": [
    "## Debug functions"
   ]
  },
  {
   "cell_type": "markdown",
   "metadata": {},
   "source": [
    "#### insertion"
   ]
  },
  {
   "cell_type": "code",
   "execution_count": 4,
   "metadata": {},
   "outputs": [
    {
     "data": {
      "text/plain": [
       "('{\"baz\": 7, \"baaa\": [1, 2]}',\n",
       " '{ \"foo\": \"bar\" }',\n",
       " '{ \"bazfoo\": 7, \"baaa\": [1, 2]}')"
      ]
     },
     "execution_count": 4,
     "metadata": {},
     "output_type": "execute_result"
    }
   ],
   "source": [
    "cs = mydd.split(mods, 2)\n",
    "temp_c1 = mydd._DDMods__modsapply(c1, cs[0])\n",
    "mydd.pretty(c1), mydd.pretty(c2), mydd.pretty(temp_c1), "
   ]
  },
  {
   "cell_type": "code",
   "execution_count": 7,
   "metadata": {},
   "outputs": [],
   "source": [
    "prepend, inserted, removed = mydd._DDMods__split_mods(cs[0])"
   ]
  },
  {
   "cell_type": "code",
   "execution_count": 8,
   "metadata": {},
   "outputs": [
    {
     "data": {
      "text/plain": [
       "[(0, ' '), (4, 'f'), (4, 'o'), (4, 'o')]"
      ]
     },
     "execution_count": 8,
     "metadata": {},
     "output_type": "execute_result"
    }
   ],
   "source": [
    "inserted"
   ]
  },
  {
   "cell_type": "markdown",
   "metadata": {},
   "source": [
    "### Fix apply_remove"
   ]
  },
  {
   "cell_type": "code",
   "execution_count": null,
   "metadata": {},
   "outputs": [
    {
     "data": {
      "text/plain": [
       "{2: 'b', 3: 'a', 4: 'z', 7: ' ', 8: '7', 9: ','}"
      ]
     },
     "execution_count": 14,
     "metadata": {},
     "output_type": "execute_result"
    }
   ],
   "source": [
    "delta_dict = {idx: char for idx, char in removed}\n",
    "delta_dict"
   ]
  },
  {
   "cell_type": "code",
   "execution_count": 16,
   "metadata": {},
   "outputs": [
    {
     "data": {
      "text/plain": [
       "[(0, '{'),\n",
       " (1, '\"'),\n",
       " (2, 'b'),\n",
       " (3, 'a'),\n",
       " (4, 'z'),\n",
       " (5, '\"'),\n",
       " (6, ':'),\n",
       " (7, ' '),\n",
       " (8, '7'),\n",
       " (9, ','),\n",
       " (10, ' '),\n",
       " (11, '\"'),\n",
       " (12, 'b'),\n",
       " (13, 'a'),\n",
       " (14, 'a'),\n",
       " (15, 'a'),\n",
       " (16, '\"'),\n",
       " (17, ':'),\n",
       " (18, ' '),\n",
       " (19, '['),\n",
       " (20, '1'),\n",
       " (21, ','),\n",
       " (22, ' '),\n",
       " (23, '2'),\n",
       " (24, ']'),\n",
       " (25, '}')]"
      ]
     },
     "execution_count": 16,
     "metadata": {},
     "output_type": "execute_result"
    }
   ],
   "source": [
    "deltas = c1\n",
    "deltas"
   ]
  },
  {
   "cell_type": "code",
   "execution_count": 18,
   "metadata": {},
   "outputs": [],
   "source": [
    "temp_c1 = [(idx, char) for idx, char in deltas if idx not in delta_dict]"
   ]
  },
  {
   "cell_type": "code",
   "execution_count": 19,
   "metadata": {},
   "outputs": [
    {
     "data": {
      "text/plain": [
       "'{\"\": \"baaa\": [1, 2]}'"
      ]
     },
     "execution_count": 19,
     "metadata": {},
     "output_type": "execute_result"
    }
   ],
   "source": [
    "mydd.pretty(temp_c1)"
   ]
  },
  {
   "cell_type": "markdown",
   "metadata": {},
   "source": []
  }
 ],
 "metadata": {
  "kernelspec": {
   "display_name": "py",
   "language": "python",
   "name": "python3"
  },
  "language_info": {
   "codemirror_mode": {
    "name": "ipython",
    "version": 3
   },
   "file_extension": ".py",
   "mimetype": "text/x-python",
   "name": "python",
   "nbconvert_exporter": "python",
   "pygments_lexer": "ipython3",
   "version": "3.12.9"
  }
 },
 "nbformat": 4,
 "nbformat_minor": 2
}
