{
 "cells": [
  {
   "cell_type": "code",
   "execution_count": null,
   "metadata": {},
   "outputs": [],
   "source": [
    "import sys\n",
    "sys.path.append('../')\n",
    "from delta_debugging.DD_mod import DDMods\n",
    "import subprocess"
   ]
  },
  {
   "cell_type": "code",
   "execution_count": null,
   "metadata": {},
   "outputs": [],
   "source": [
    "class TestDD(DDMods):\n",
    "    def __init__(self, fuzzer_path):\n",
    "        DDMods.__init__(self)\n",
    "        self.debug_dd = 0\n",
    "        self.verbose = 0\n",
    "        self.fuzzer_path = fuzzer_path\n",
    "    def _test(self, deltas):\n",
    "        # Reconstruct the binary input\n",
    "        binary_data = deltas_to_bytes(deltas)\n",
    "        print(\"Testing input of length {}...\".format(len(binary_data)))\n",
    "        if not binary_data:\n",
    "            return self.PASS\n",
    "        # Run the binary with the input\n",
    "        result = self.test_seed(binary_data)\n",
    "        return self.PASS if result else self.FAIL\n",
    "    def test_seed(self, binary_input):\n",
    "        \"\"\"Run fuzzer with binary_input piped to stdin and return True if it doesn't crash.\"\"\"\n",
    "        try:\n",
    "            result = subprocess.run(\n",
    "                [self.fuzzer_path],\n",
    "                input=binary_input,\n",
    "                stdout=subprocess.DEVNULL,\n",
    "                stderr=subprocess.DEVNULL,\n",
    "                check=False\n",
    "            )\n",
    "            return result.returncode == 0\n",
    "        except Exception as e:\n",
    "            print(\"Error running fuzzer: {}\".format(e))\n",
    "            return False"
   ]
  },
  {
   "cell_type": "code",
   "execution_count": null,
   "metadata": {},
   "outputs": [],
   "source": [
    "def bytes_to_deltas(b):\n",
    "    return list(map(lambda i: (i, bytes(b[i])), range(len(b))))"
   ]
  },
  {
   "cell_type": "code",
   "execution_count": null,
   "metadata": {},
   "outputs": [],
   "source": [
    "def deltas_to_bytes(deltas):\n",
    "    return b\"\".join([x[1] for x in deltas])"
   ]
  },
  {
   "cell_type": "markdown",
   "metadata": {},
   "source": [
    "## Min fail input"
   ]
  },
  {
   "cell_type": "code",
   "execution_count": null,
   "metadata": {},
   "outputs": [],
   "source": [
    "crashing_input = \"/src/clusterfuzz-testcase-minimized-server-6088352019251200\"\n",
    "valid_input = \"/src/boringssl/fuzz/server_corpus/1037d8ef263682ea727da03710954173df7212ac\"\n",
    "fuzzer = \"server\"\n",
    "mydd = TestDD(fuzzer_path=fuzzer)"
   ]
  },
  {
   "cell_type": "code",
   "execution_count": 9,
   "metadata": {},
   "outputs": [
    {
     "name": "stdout",
     "output_type": "stream",
     "text": [
      "Testing case \"          . \n",
      "Test passed: empty string\n",
      "Testing case \"{\"baz\": 7, \"baaa\": [1, 2]}. \n",
      "Test failed: baaa is a list.\n",
      "Testing case \"aaa\": [1, 2]}. \n",
      "Test unresolved: Expecting value: line 1 column 1 (char 0)\n",
      "Testing case \"{\"baz\": 7, \"b. \n",
      "Test unresolved: Unterminated string starting at: line 1 column 12 (char 11)\n",
      "Testing case \": 7, \"baaa\": [1, 2]}. \n",
      "Test unresolved: Expecting value: line 1 column 1 (char 0)\n",
      "Testing case \"{\"baz\"baaa\": [1, 2]}. \n",
      "Test unresolved: Expecting ':' delimiter: line 1 column 7 (char 6)\n",
      "Testing case \"{\"baz\": 7, \"[1, 2]}. \n",
      "Test unresolved: Unterminated string starting at: line 1 column 12 (char 11)\n",
      "Testing case \"{\"baz\": 7, \"baaa\": . \n",
      "Test unresolved: Expecting value: line 1 column 20 (char 19)\n",
      "Testing case \"az\": 7, \"baaa\": [1, 2]}. \n",
      "Test unresolved: Expecting value: line 1 column 1 (char 0)\n",
      "Testing case \"{\"b: 7, \"baaa\": [1, 2]}. \n",
      "Test unresolved: Expecting ':' delimiter: line 1 column 10 (char 9)\n",
      "Testing case \"{\"baz\", \"baaa\": [1, 2]}. \n",
      "Test unresolved: Expecting ':' delimiter: line 1 column 7 (char 6)\n",
      "Testing case \"{\"baz\": 7baaa\": [1, 2]}. \n",
      "Test unresolved: Expecting ',' delimiter: line 1 column 10 (char 9)\n",
      "Testing case \"{\"baz\": 7, \"a\": [1, 2]}. \n",
      "Test failed: a is a list.\n",
      "Testing case \"{\"baz\": 7, \" [1, 2]}. \n",
      "Test unresolved: Unterminated string starting at: line 1 column 12 (char 11)\n",
      "Testing case \"{\"baz\": 7, \"a\": 2]}. \n",
      "Test unresolved: Expecting ',' delimiter: line 1 column 18 (char 17)\n",
      "Testing case \"{\"baz\": 7, \"a\": [1,. \n",
      "Test unresolved: Expecting value: line 1 column 20 (char 19)\n",
      "Testing case \"az\": 7, \"a\": [1, 2]}. \n",
      "Test unresolved: Expecting value: line 1 column 1 (char 0)\n",
      "Testing case \"{\"b: 7, \"a\": [1, 2]}. \n",
      "Test unresolved: Expecting ':' delimiter: line 1 column 10 (char 9)\n",
      "Testing case \"{\"baz\", \"a\": [1, 2]}. \n",
      "Test unresolved: Expecting ':' delimiter: line 1 column 7 (char 6)\n",
      "Testing case \"{\"baz\": 7a\": [1, 2]}. \n",
      "Test unresolved: Expecting ',' delimiter: line 1 column 10 (char 9)\n",
      "Testing case \"{\"baz\": 7, \": [1, 2]}. \n",
      "Test unresolved: Unterminated string starting at: line 1 column 12 (char 11)\n",
      "Testing case \"{\"baz\": 7, \"a [1, 2]}. \n",
      "Test unresolved: Unterminated string starting at: line 1 column 12 (char 11)\n",
      "Testing case \"{\"baz\": 7, \"a\":1, 2]}. \n",
      "Test unresolved: Expecting property name enclosed in double quotes: line 1 column 19 (char 18)\n",
      "Testing case \"{\"baz\": 7, \"a\": [ 2]}. \n",
      "Test failed: a is a list.\n",
      "Testing case \"{\"baz\": 7, \"a\": []}. \n",
      "Test failed: a is a list.\n",
      "Testing case \"{\"baz\": 7, \"a\": [. \n",
      "Test unresolved: Expecting value: line 1 column 18 (char 17)\n",
      "Testing case \"\"baz\": 7, \"a\": []}. \n",
      "Test unresolved: Extra data: line 1 column 6 (char 5)\n",
      "Testing case \"{baz\": 7, \"a\": []}. \n",
      "Test unresolved: Expecting property name enclosed in double quotes: line 1 column 2 (char 1)\n",
      "Testing case \"{\"az\": 7, \"a\": []}. \n",
      "Test failed: a is a list.\n",
      "Testing case \"{\"z\": 7, \"a\": []}. \n",
      "Test failed: a is a list.\n",
      "Testing case \"{\"\": 7, \"a\": []}. \n",
      "Test failed: a is a list.\n",
      "Testing case \"{\" 7, \"a\": []}. \n",
      "Test unresolved: Expecting ':' delimiter: line 1 column 8 (char 7)\n",
      "Testing case \"{\"\":, \"a\": []}. \n",
      "Test unresolved: Expecting value: line 1 column 5 (char 4)\n",
      "Testing case \"{\"\": 7\"a\": []}. \n",
      "Test unresolved: Expecting ',' delimiter: line 1 column 7 (char 6)\n",
      "Testing case \"{\"\": 7, \": []}. \n",
      "Test unresolved: Unterminated string starting at: line 1 column 9 (char 8)\n",
      "Testing case \"{\"\": 7, \"a []}. \n",
      "Test unresolved: Unterminated string starting at: line 1 column 9 (char 8)\n",
      "Testing case \"{\"\": 7, \"a\":]}. \n",
      "Test unresolved: Expecting value: line 1 column 13 (char 12)\n",
      "Testing case \"{\"\": 7, \"a\": [. \n",
      "Test unresolved: Expecting value: line 1 column 15 (char 14)\n",
      "Testing case \"\"\": 7, \"a\": []}. \n",
      "Test unresolved: Extra data: line 1 column 3 (char 2)\n",
      "Testing case \"{\": 7, \"a\": []}. \n",
      "Test unresolved: Expecting ':' delimiter: line 1 column 9 (char 8)\n",
      "Testing case \"{\"\" 7, \"a\": []}. \n",
      "Test unresolved: Expecting ':' delimiter: line 1 column 5 (char 4)\n",
      "Testing case \"{\"\":7, \"a\": []}. \n",
      "Test failed: a is a list.\n",
      "Testing case \"{\"\":7 \"a\": []}. \n",
      "Test unresolved: Expecting ',' delimiter: line 1 column 7 (char 6)\n",
      "Testing case \"{\"\":7,\"a\": []}. \n",
      "Test failed: a is a list.\n",
      "Testing case \"{\"\":7,a\": []}. \n",
      "Test unresolved: Expecting property name enclosed in double quotes: line 1 column 7 (char 6)\n",
      "Testing case \"{\"\":7,\"\": []}. \n",
      "Test failed:  is a list.\n",
      "Testing case \"{\"\":7,\": []}. \n",
      "Test unresolved: Unterminated string starting at: line 1 column 7 (char 6)\n",
      "Testing case \"{\"\":7,\"\" []}. \n",
      "Test unresolved: Expecting ':' delimiter: line 1 column 10 (char 9)\n",
      "Testing case \"{\"\":7,\"\":[]}. \n",
      "Test failed:  is a list.\n",
      "Testing case \"{\"\":7,\"\":]}. \n",
      "Test unresolved: Expecting value: line 1 column 10 (char 9)\n",
      "Testing case \"{\"\":7,\"\":[}. \n",
      "Test unresolved: Expecting value: line 1 column 11 (char 10)\n",
      "Testing case \"{\"\":7,\"\":[]. \n",
      "Test unresolved: Expecting ',' delimiter: line 1 column 12 (char 11)\n",
      "Testing case \"\"\":7,\"\":[]}. \n",
      "Test unresolved: Extra data: line 1 column 3 (char 2)\n",
      "Testing case \"{\":7,\"\":[]}. \n",
      "Test unresolved: Expecting ':' delimiter: line 1 column 7 (char 6)\n",
      "Testing case \"{\":7,\"\":[]}. \n",
      "Test unresolved: Expecting ':' delimiter: line 1 column 7 (char 6)\n",
      "Testing case \"{\"\"7,\"\":[]}. \n",
      "Test unresolved: Expecting ':' delimiter: line 1 column 4 (char 3)\n",
      "Testing case \"{\"\":,\"\":[]}. \n",
      "Test unresolved: Expecting value: line 1 column 5 (char 4)\n",
      "Testing case \"{\"\":7\"\":[]}. \n",
      "Test unresolved: Expecting ',' delimiter: line 1 column 6 (char 5)\n",
      "Testing case \"{\"\":7,\":[]}. \n",
      "Test unresolved: Unterminated string starting at: line 1 column 7 (char 6)\n",
      "Testing case \"{\"\":7,\":[]}. \n",
      "Test unresolved: Unterminated string starting at: line 1 column 7 (char 6)\n",
      "Testing case \"{\"\":7,\"\"[]}. \n",
      "Test unresolved: Expecting ':' delimiter: line 1 column 9 (char 8)\n",
      "dd: done\n"
     ]
    }
   ],
   "source": [
    "mydd = TestDD()\n",
    "string1 = '{\"baz\": 7, \"baaa\": [1, 2]}'\n",
    "# string1 = '{\"baaa\": [1, 2]}'\n",
    "test_input = string1\n",
    "deltas = list(map(lambda x: (x, test_input[x]), range(len(test_input))))\n",
    "c = mydd.ddmin(deltas)              # Invoke DDMIN\n",
    "minimal = \"\".join([x[1] for x in c])"
   ]
  },
  {
   "cell_type": "code",
   "execution_count": 10,
   "metadata": {},
   "outputs": [
    {
     "name": "stdout",
     "output_type": "stream",
     "text": [
      "Found minimal test case: \"{\"\":7,\"\":[]}\"\n"
     ]
    }
   ],
   "source": [
    "print('Found minimal test case: \"{}\"'.format(minimal))"
   ]
  }
 ],
 "metadata": {
  "kernelspec": {
   "display_name": "py",
   "language": "python",
   "name": "python3"
  },
  "language_info": {
   "codemirror_mode": {
    "name": "ipython",
    "version": 3
   },
   "file_extension": ".py",
   "mimetype": "text/x-python",
   "name": "python",
   "nbconvert_exporter": "python",
   "pygments_lexer": "ipython3",
   "version": "3.12.9"
  }
 },
 "nbformat": 4,
 "nbformat_minor": 2
}
